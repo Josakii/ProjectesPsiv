{
 "cells": [
  {
   "cell_type": "code",
   "execution_count": 3,
   "metadata": {},
   "outputs": [],
   "source": [
    "from funcions_finals.matricula_to_digits_2 import matricula_to_digits\n",
    "from funcions_finals.digits_to_predicts_3 import predict_digits, CNNModel_a, CNNModel_n\n",
    "import cv2\n",
    "import numpy as np\n",
    "import os\n",
    "from matplotlib import pyplot as plt\n",
    "import torch\n",
    "import torch.nn as nn\n",
    "import torch.nn.functional as F\n",
    "from ultralytics import YOLO\n",
    "from funcions_finals.detector_matricula import init_models\n",
    "from funcions_finals.detector_matricula import detect_matricula\n",
    "from funcions_finals.matricula_to_digits_2 import matricula_to_digits\n",
    "from funcions_finals.digits_to_predicts_3 import predict_digits\n",
    "from funcions_finals.image_to_matricula_1 import crop_matricula\n",
    "import pandas as pd\n",
    "\n"
   ]
  },
  {
   "cell_type": "code",
   "execution_count": 4,
   "metadata": {},
   "outputs": [
    {
     "name": "stderr",
     "output_type": "stream",
     "text": [
      "YOLOv5  2024-10-5 Python-3.9.7 torch-2.4.1+cpu CPU\n",
      "\n",
      "Fusing layers... \n",
      "Model summary: 157 layers, 7012822 parameters, 0 gradients, 15.8 GFLOPs\n",
      "Adding AutoShape... \n"
     ]
    }
   ],
   "source": [
    "# get data\n",
    "final_df_path_img = 'dataset_final/Dataset-Final'\n",
    "final_df_path_txt = 'dataset_final/Matriculas.xlsx'\n",
    "final_df = pd.read_excel(final_df_path_txt,header=None)\n",
    "\n",
    "# init models\n",
    "model_yolo, model_alfa, model_num = init_models(\"models/CNN1-numeros.pt\",\"models/CNN1-alfa.pt\")"
   ]
  },
  {
   "cell_type": "markdown",
   "metadata": {},
   "source": [
    "## 1. CROP MATRICULES ADQUIRIDES"
   ]
  },
  {
   "cell_type": "code",
   "execution_count": 15,
   "metadata": {},
   "outputs": [
    {
     "name": "stderr",
     "output_type": "stream",
     "text": [
      "c:\\Users\\mirvi\\Desktop\\mii\\UAB\\4.1\\PSIV2\\detect mateicules\\r1\\yolov5\\models\\common.py:892: FutureWarning: `torch.cuda.amp.autocast(args...)` is deprecated. Please use `torch.amp.autocast('cuda', args...)` instead.\n",
      "  with amp.autocast(autocast):\n",
      "c:\\Users\\mirvi\\Desktop\\mii\\UAB\\4.1\\PSIV2\\detect mateicules\\r1\\yolov5\\models\\common.py:892: FutureWarning: `torch.cuda.amp.autocast(args...)` is deprecated. Please use `torch.amp.autocast('cuda', args...)` instead.\n",
      "  with amp.autocast(autocast):\n",
      "c:\\Users\\mirvi\\Desktop\\mii\\UAB\\4.1\\PSIV2\\detect mateicules\\r1\\yolov5\\models\\common.py:892: FutureWarning: `torch.cuda.amp.autocast(args...)` is deprecated. Please use `torch.amp.autocast('cuda', args...)` instead.\n",
      "  with amp.autocast(autocast):\n",
      "c:\\Users\\mirvi\\Desktop\\mii\\UAB\\4.1\\PSIV2\\detect mateicules\\r1\\yolov5\\models\\common.py:892: FutureWarning: `torch.cuda.amp.autocast(args...)` is deprecated. Please use `torch.amp.autocast('cuda', args...)` instead.\n",
      "  with amp.autocast(autocast):\n",
      "c:\\Users\\mirvi\\Desktop\\mii\\UAB\\4.1\\PSIV2\\detect mateicules\\r1\\yolov5\\models\\common.py:892: FutureWarning: `torch.cuda.amp.autocast(args...)` is deprecated. Please use `torch.amp.autocast('cuda', args...)` instead.\n",
      "  with amp.autocast(autocast):\n",
      "c:\\Users\\mirvi\\Desktop\\mii\\UAB\\4.1\\PSIV2\\detect mateicules\\r1\\yolov5\\models\\common.py:892: FutureWarning: `torch.cuda.amp.autocast(args...)` is deprecated. Please use `torch.amp.autocast('cuda', args...)` instead.\n",
      "  with amp.autocast(autocast):\n",
      "c:\\Users\\mirvi\\Desktop\\mii\\UAB\\4.1\\PSIV2\\detect mateicules\\r1\\yolov5\\models\\common.py:892: FutureWarning: `torch.cuda.amp.autocast(args...)` is deprecated. Please use `torch.amp.autocast('cuda', args...)` instead.\n",
      "  with amp.autocast(autocast):\n",
      "c:\\Users\\mirvi\\Desktop\\mii\\UAB\\4.1\\PSIV2\\detect mateicules\\r1\\yolov5\\models\\common.py:892: FutureWarning: `torch.cuda.amp.autocast(args...)` is deprecated. Please use `torch.amp.autocast('cuda', args...)` instead.\n",
      "  with amp.autocast(autocast):\n",
      "c:\\Users\\mirvi\\Desktop\\mii\\UAB\\4.1\\PSIV2\\detect mateicules\\r1\\yolov5\\models\\common.py:892: FutureWarning: `torch.cuda.amp.autocast(args...)` is deprecated. Please use `torch.amp.autocast('cuda', args...)` instead.\n",
      "  with amp.autocast(autocast):\n",
      "c:\\Users\\mirvi\\Desktop\\mii\\UAB\\4.1\\PSIV2\\detect mateicules\\r1\\yolov5\\models\\common.py:892: FutureWarning: `torch.cuda.amp.autocast(args...)` is deprecated. Please use `torch.amp.autocast('cuda', args...)` instead.\n",
      "  with amp.autocast(autocast):\n",
      "c:\\Users\\mirvi\\Desktop\\mii\\UAB\\4.1\\PSIV2\\detect mateicules\\r1\\yolov5\\models\\common.py:892: FutureWarning: `torch.cuda.amp.autocast(args...)` is deprecated. Please use `torch.amp.autocast('cuda', args...)` instead.\n",
      "  with amp.autocast(autocast):\n",
      "c:\\Users\\mirvi\\Desktop\\mii\\UAB\\4.1\\PSIV2\\detect mateicules\\r1\\yolov5\\models\\common.py:892: FutureWarning: `torch.cuda.amp.autocast(args...)` is deprecated. Please use `torch.amp.autocast('cuda', args...)` instead.\n",
      "  with amp.autocast(autocast):\n",
      "c:\\Users\\mirvi\\Desktop\\mii\\UAB\\4.1\\PSIV2\\detect mateicules\\r1\\yolov5\\models\\common.py:892: FutureWarning: `torch.cuda.amp.autocast(args...)` is deprecated. Please use `torch.amp.autocast('cuda', args...)` instead.\n",
      "  with amp.autocast(autocast):\n",
      "c:\\Users\\mirvi\\Desktop\\mii\\UAB\\4.1\\PSIV2\\detect mateicules\\r1\\yolov5\\models\\common.py:892: FutureWarning: `torch.cuda.amp.autocast(args...)` is deprecated. Please use `torch.amp.autocast('cuda', args...)` instead.\n",
      "  with amp.autocast(autocast):\n",
      "c:\\Users\\mirvi\\Desktop\\mii\\UAB\\4.1\\PSIV2\\detect mateicules\\r1\\yolov5\\models\\common.py:892: FutureWarning: `torch.cuda.amp.autocast(args...)` is deprecated. Please use `torch.amp.autocast('cuda', args...)` instead.\n",
      "  with amp.autocast(autocast):\n",
      "c:\\Users\\mirvi\\Desktop\\mii\\UAB\\4.1\\PSIV2\\detect mateicules\\r1\\yolov5\\models\\common.py:892: FutureWarning: `torch.cuda.amp.autocast(args...)` is deprecated. Please use `torch.amp.autocast('cuda', args...)` instead.\n",
      "  with amp.autocast(autocast):\n",
      "c:\\Users\\mirvi\\Desktop\\mii\\UAB\\4.1\\PSIV2\\detect mateicules\\r1\\yolov5\\models\\common.py:892: FutureWarning: `torch.cuda.amp.autocast(args...)` is deprecated. Please use `torch.amp.autocast('cuda', args...)` instead.\n",
      "  with amp.autocast(autocast):\n",
      "c:\\Users\\mirvi\\Desktop\\mii\\UAB\\4.1\\PSIV2\\detect mateicules\\r1\\yolov5\\models\\common.py:892: FutureWarning: `torch.cuda.amp.autocast(args...)` is deprecated. Please use `torch.amp.autocast('cuda', args...)` instead.\n",
      "  with amp.autocast(autocast):\n",
      "c:\\Users\\mirvi\\Desktop\\mii\\UAB\\4.1\\PSIV2\\detect mateicules\\r1\\yolov5\\models\\common.py:892: FutureWarning: `torch.cuda.amp.autocast(args...)` is deprecated. Please use `torch.amp.autocast('cuda', args...)` instead.\n",
      "  with amp.autocast(autocast):\n",
      "c:\\Users\\mirvi\\Desktop\\mii\\UAB\\4.1\\PSIV2\\detect mateicules\\r1\\yolov5\\models\\common.py:892: FutureWarning: `torch.cuda.amp.autocast(args...)` is deprecated. Please use `torch.amp.autocast('cuda', args...)` instead.\n",
      "  with amp.autocast(autocast):\n",
      "c:\\Users\\mirvi\\Desktop\\mii\\UAB\\4.1\\PSIV2\\detect mateicules\\r1\\yolov5\\models\\common.py:892: FutureWarning: `torch.cuda.amp.autocast(args...)` is deprecated. Please use `torch.amp.autocast('cuda', args...)` instead.\n",
      "  with amp.autocast(autocast):\n",
      "c:\\Users\\mirvi\\Desktop\\mii\\UAB\\4.1\\PSIV2\\detect mateicules\\r1\\yolov5\\models\\common.py:892: FutureWarning: `torch.cuda.amp.autocast(args...)` is deprecated. Please use `torch.amp.autocast('cuda', args...)` instead.\n",
      "  with amp.autocast(autocast):\n",
      "c:\\Users\\mirvi\\Desktop\\mii\\UAB\\4.1\\PSIV2\\detect mateicules\\r1\\yolov5\\models\\common.py:892: FutureWarning: `torch.cuda.amp.autocast(args...)` is deprecated. Please use `torch.amp.autocast('cuda', args...)` instead.\n",
      "  with amp.autocast(autocast):\n"
     ]
    }
   ],
   "source": [
    "total = 0\n",
    "correct = []\n",
    "incorrect = []\n",
    "mat_preds = []\n",
    "# Iterar sobre contenido de final_df_path_img\n",
    "for row,img in enumerate(os.listdir(final_df_path_img)):\n",
    "    total += 1\n",
    "    # 1. get img path\n",
    "    image_path = os.path.join(final_df_path_img, img)\n",
    "\n",
    "    # 2. crop matricula\n",
    "    matricula = crop_matricula(image_path, model_yolo)\n",
    "\n",
    "    # 3. save in folder tmp_cropped as tmp_cropped_{row}.jpg\n",
    "    matricula_path = 'tmp_cropped_2'\n",
    "    matricula_path = os.path.join(matricula_path, f'tmp_cropped_{row}.jpg')\n",
    "    cv2.imwrite(matricula_path, matricula)\n"
   ]
  },
  {
   "cell_type": "markdown",
   "metadata": {},
   "source": [
    "## 2. VALIDAR FIND CONTOURS"
   ]
  },
  {
   "cell_type": "code",
   "execution_count": 10,
   "metadata": {},
   "outputs": [
    {
     "name": "stdout",
     "output_type": "stream",
     "text": [
      "ERRORS: 0\n"
     ]
    }
   ],
   "source": [
    "possible_errors = []\n",
    "correct = []\n",
    "error = 0\n",
    "total = 0\n",
    "for i,img in enumerate(os.listdir(\"tmp_cropped_2\")):\n",
    "    # 1. get img path\n",
    "    image_path = os.path.join(\"tmp_cropped_2\", img)\n",
    "    \n",
    "    # 2. matricula to digits\n",
    "    digits = matricula_to_digits(image_path)\n",
    "\n",
    "    if len(digits) != 7:\n",
    "        possible_errors.append([image_path, digits])\n",
    "        error +=1\n",
    "    else:\n",
    "        correct.append((image_path, digits))\n",
    "    \n",
    "    total += 1\n",
    "\n",
    "print('ERRORS:',error)"
   ]
  },
  {
   "cell_type": "markdown",
   "metadata": {},
   "source": [
    "### 2.1 MOSTREM ERRORS"
   ]
  },
  {
   "cell_type": "code",
   "execution_count": 6,
   "metadata": {},
   "outputs": [],
   "source": [
    "for err in possible_errors:\n",
    "    print(err[0])"
   ]
  },
  {
   "cell_type": "markdown",
   "metadata": {},
   "source": [
    "### 2.2 DESEM DIGITS TROBATS"
   ]
  },
  {
   "cell_type": "code",
   "execution_count": 9,
   "metadata": {},
   "outputs": [],
   "source": [
    "df_num = 'digits_reals/num'\n",
    "df_alfa = 'digits_reals/alfa'\n",
    "# Iterar sobre las imágenes\n",
    "i=0\n",
    "x = 0\n",
    "for img, dg in correct:\n",
    "    j=0\n",
    "    for d in dg:\n",
    "        if j<3:\n",
    "            # Generar la ruta del archivo\n",
    "            digits_path = os.path.join(df_alfa, f'digits_{x}.jpg')\n",
    "        else:\n",
    "            digits_path = os.path.join(df_num, f'digits_{x}.jpg')\n",
    "\n",
    "        # Guardar la imagen en la carpeta especificada\n",
    "        cv2.imwrite(digits_path, d)\n",
    "        j+=1\n",
    "        x+=1\n",
    "    \n",
    "    i+=1"
   ]
  },
  {
   "cell_type": "markdown",
   "metadata": {},
   "source": [
    "La validació de IMG CLASSIF està feta en un arxiu apart, ja que implicava més feina per classificar a mà cadascun dels digits\n"
   ]
  },
  {
   "cell_type": "markdown",
   "metadata": {},
   "source": [
    "## 3. MOSTREM RESULTATS FINALS"
   ]
  },
  {
   "cell_type": "code",
   "execution_count": 1,
   "metadata": {},
   "outputs": [],
   "source": [
    "from funcions_finals.matricula_to_digits_2 import matricula_to_digits\n",
    "from funcions_finals.digits_to_predicts_3 import predict_digits, CNNModel_a, CNNModel_n\n",
    "import cv2\n",
    "import numpy as np\n",
    "import os\n",
    "from matplotlib import pyplot as plt\n",
    "import torch\n",
    "import torch.nn as nn\n",
    "import torch.nn.functional as F\n",
    "from ultralytics import YOLO\n",
    "from funcions_finals.detector_matricula import init_models\n",
    "from funcions_finals.detector_matricula import detect_matricula\n",
    "from funcions_finals.matricula_to_digits_2 import matricula_to_digits\n",
    "from funcions_finals.digits_to_predicts_3 import predict_digits\n",
    "from funcions_finals.image_to_matricula_1 import crop_matricula\n",
    "import pandas as pd"
   ]
  },
  {
   "cell_type": "code",
   "execution_count": 2,
   "metadata": {},
   "outputs": [],
   "source": [
    "def metric_validator(str_pred, str_gt):\n",
    "    punt = 0\n",
    "    for i in range(len(str_pred)):\n",
    "        if str_pred[i] == str_gt[i]:\n",
    "            punt += 1\n",
    "    return punt"
   ]
  },
  {
   "cell_type": "code",
   "execution_count": 3,
   "metadata": {},
   "outputs": [
    {
     "name": "stderr",
     "output_type": "stream",
     "text": [
      "YOLOv5  2024-10-5 Python-3.9.7 torch-2.4.1+cpu CPU\n",
      "\n",
      "Fusing layers... \n",
      "Model summary: 157 layers, 7012822 parameters, 0 gradients, 15.8 GFLOPs\n",
      "Adding AutoShape... \n",
      "c:\\Users\\mirvi\\Desktop\\mii\\UAB\\4.1\\PSIV2\\detect mateicules\\r1\\yolov5\\models\\common.py:892: FutureWarning: `torch.cuda.amp.autocast(args...)` is deprecated. Please use `torch.amp.autocast('cuda', args...)` instead.\n",
      "  with amp.autocast(autocast):\n",
      "c:\\Users\\mirvi\\Desktop\\mii\\UAB\\4.1\\PSIV2\\detect mateicules\\r1\\yolov5\\models\\common.py:892: FutureWarning: `torch.cuda.amp.autocast(args...)` is deprecated. Please use `torch.amp.autocast('cuda', args...)` instead.\n",
      "  with amp.autocast(autocast):\n",
      "c:\\Users\\mirvi\\Desktop\\mii\\UAB\\4.1\\PSIV2\\detect mateicules\\r1\\yolov5\\models\\common.py:892: FutureWarning: `torch.cuda.amp.autocast(args...)` is deprecated. Please use `torch.amp.autocast('cuda', args...)` instead.\n",
      "  with amp.autocast(autocast):\n",
      "c:\\Users\\mirvi\\Desktop\\mii\\UAB\\4.1\\PSIV2\\detect mateicules\\r1\\yolov5\\models\\common.py:892: FutureWarning: `torch.cuda.amp.autocast(args...)` is deprecated. Please use `torch.amp.autocast('cuda', args...)` instead.\n",
      "  with amp.autocast(autocast):\n",
      "c:\\Users\\mirvi\\Desktop\\mii\\UAB\\4.1\\PSIV2\\detect mateicules\\r1\\yolov5\\models\\common.py:892: FutureWarning: `torch.cuda.amp.autocast(args...)` is deprecated. Please use `torch.amp.autocast('cuda', args...)` instead.\n",
      "  with amp.autocast(autocast):\n",
      "c:\\Users\\mirvi\\Desktop\\mii\\UAB\\4.1\\PSIV2\\detect mateicules\\r1\\yolov5\\models\\common.py:892: FutureWarning: `torch.cuda.amp.autocast(args...)` is deprecated. Please use `torch.amp.autocast('cuda', args...)` instead.\n",
      "  with amp.autocast(autocast):\n",
      "c:\\Users\\mirvi\\Desktop\\mii\\UAB\\4.1\\PSIV2\\detect mateicules\\r1\\yolov5\\models\\common.py:892: FutureWarning: `torch.cuda.amp.autocast(args...)` is deprecated. Please use `torch.amp.autocast('cuda', args...)` instead.\n",
      "  with amp.autocast(autocast):\n",
      "c:\\Users\\mirvi\\Desktop\\mii\\UAB\\4.1\\PSIV2\\detect mateicules\\r1\\yolov5\\models\\common.py:892: FutureWarning: `torch.cuda.amp.autocast(args...)` is deprecated. Please use `torch.amp.autocast('cuda', args...)` instead.\n",
      "  with amp.autocast(autocast):\n",
      "c:\\Users\\mirvi\\Desktop\\mii\\UAB\\4.1\\PSIV2\\detect mateicules\\r1\\yolov5\\models\\common.py:892: FutureWarning: `torch.cuda.amp.autocast(args...)` is deprecated. Please use `torch.amp.autocast('cuda', args...)` instead.\n",
      "  with amp.autocast(autocast):\n",
      "c:\\Users\\mirvi\\Desktop\\mii\\UAB\\4.1\\PSIV2\\detect mateicules\\r1\\yolov5\\models\\common.py:892: FutureWarning: `torch.cuda.amp.autocast(args...)` is deprecated. Please use `torch.amp.autocast('cuda', args...)` instead.\n",
      "  with amp.autocast(autocast):\n",
      "c:\\Users\\mirvi\\Desktop\\mii\\UAB\\4.1\\PSIV2\\detect mateicules\\r1\\yolov5\\models\\common.py:892: FutureWarning: `torch.cuda.amp.autocast(args...)` is deprecated. Please use `torch.amp.autocast('cuda', args...)` instead.\n",
      "  with amp.autocast(autocast):\n",
      "c:\\Users\\mirvi\\Desktop\\mii\\UAB\\4.1\\PSIV2\\detect mateicules\\r1\\yolov5\\models\\common.py:892: FutureWarning: `torch.cuda.amp.autocast(args...)` is deprecated. Please use `torch.amp.autocast('cuda', args...)` instead.\n",
      "  with amp.autocast(autocast):\n",
      "c:\\Users\\mirvi\\Desktop\\mii\\UAB\\4.1\\PSIV2\\detect mateicules\\r1\\yolov5\\models\\common.py:892: FutureWarning: `torch.cuda.amp.autocast(args...)` is deprecated. Please use `torch.amp.autocast('cuda', args...)` instead.\n",
      "  with amp.autocast(autocast):\n",
      "c:\\Users\\mirvi\\Desktop\\mii\\UAB\\4.1\\PSIV2\\detect mateicules\\r1\\yolov5\\models\\common.py:892: FutureWarning: `torch.cuda.amp.autocast(args...)` is deprecated. Please use `torch.amp.autocast('cuda', args...)` instead.\n",
      "  with amp.autocast(autocast):\n",
      "c:\\Users\\mirvi\\Desktop\\mii\\UAB\\4.1\\PSIV2\\detect mateicules\\r1\\yolov5\\models\\common.py:892: FutureWarning: `torch.cuda.amp.autocast(args...)` is deprecated. Please use `torch.amp.autocast('cuda', args...)` instead.\n",
      "  with amp.autocast(autocast):\n",
      "c:\\Users\\mirvi\\Desktop\\mii\\UAB\\4.1\\PSIV2\\detect mateicules\\r1\\yolov5\\models\\common.py:892: FutureWarning: `torch.cuda.amp.autocast(args...)` is deprecated. Please use `torch.amp.autocast('cuda', args...)` instead.\n",
      "  with amp.autocast(autocast):\n",
      "c:\\Users\\mirvi\\Desktop\\mii\\UAB\\4.1\\PSIV2\\detect mateicules\\r1\\yolov5\\models\\common.py:892: FutureWarning: `torch.cuda.amp.autocast(args...)` is deprecated. Please use `torch.amp.autocast('cuda', args...)` instead.\n",
      "  with amp.autocast(autocast):\n",
      "c:\\Users\\mirvi\\Desktop\\mii\\UAB\\4.1\\PSIV2\\detect mateicules\\r1\\yolov5\\models\\common.py:892: FutureWarning: `torch.cuda.amp.autocast(args...)` is deprecated. Please use `torch.amp.autocast('cuda', args...)` instead.\n",
      "  with amp.autocast(autocast):\n",
      "c:\\Users\\mirvi\\Desktop\\mii\\UAB\\4.1\\PSIV2\\detect mateicules\\r1\\yolov5\\models\\common.py:892: FutureWarning: `torch.cuda.amp.autocast(args...)` is deprecated. Please use `torch.amp.autocast('cuda', args...)` instead.\n",
      "  with amp.autocast(autocast):\n",
      "c:\\Users\\mirvi\\Desktop\\mii\\UAB\\4.1\\PSIV2\\detect mateicules\\r1\\yolov5\\models\\common.py:892: FutureWarning: `torch.cuda.amp.autocast(args...)` is deprecated. Please use `torch.amp.autocast('cuda', args...)` instead.\n",
      "  with amp.autocast(autocast):\n",
      "c:\\Users\\mirvi\\Desktop\\mii\\UAB\\4.1\\PSIV2\\detect mateicules\\r1\\yolov5\\models\\common.py:892: FutureWarning: `torch.cuda.amp.autocast(args...)` is deprecated. Please use `torch.amp.autocast('cuda', args...)` instead.\n",
      "  with amp.autocast(autocast):\n",
      "c:\\Users\\mirvi\\Desktop\\mii\\UAB\\4.1\\PSIV2\\detect mateicules\\r1\\yolov5\\models\\common.py:892: FutureWarning: `torch.cuda.amp.autocast(args...)` is deprecated. Please use `torch.amp.autocast('cuda', args...)` instead.\n",
      "  with amp.autocast(autocast):\n",
      "c:\\Users\\mirvi\\Desktop\\mii\\UAB\\4.1\\PSIV2\\detect mateicules\\r1\\yolov5\\models\\common.py:892: FutureWarning: `torch.cuda.amp.autocast(args...)` is deprecated. Please use `torch.amp.autocast('cuda', args...)` instead.\n",
      "  with amp.autocast(autocast):\n"
     ]
    }
   ],
   "source": [
    "final_df_path_img = 'dataset_final/Dataset-Final'\n",
    "final_df_path_txt = 'dataset_final/Matriculas.xlsx'\n",
    "final_df = pd.read_excel(final_df_path_txt,header=None)\n",
    "\n",
    "model_yolo, model_alfa, model_num = init_models(\"models/CNN_num_rsm.pt\",\"models/CNN_alfa_rsm.pt\")\n",
    "\n",
    "punts_total = 0\n",
    "punts_max = 0\n",
    "for row,img in enumerate(os.listdir(final_df_path_img)):\n",
    "    # 1. get img path\n",
    "    image_path = os.path.join(final_df_path_img, img)\n",
    "    image_number = int(img.split('.')[0])\n",
    "\n",
    "    # 2. crop matricula\n",
    "    matricula = crop_matricula(image_path, model_yolo)\n",
    "\n",
    "    # 3. get digitsS\n",
    "    digits = matricula_to_digits(matricula)\n",
    "\n",
    "    # 4. get predictions\n",
    "    numeric_preds, alfa_preds, full_str = predict_digits(digits, model_num, model_alfa)\n",
    "\n",
    "    # 5. comparem amb el ground truth\n",
    "    ground_truth = final_df.iloc[image_number-1, 0]\n",
    "    punts_total += metric_validator(full_str, ground_truth)\n",
    "    punts_max += 7\n",
    "\n"
   ]
  },
  {
   "cell_type": "code",
   "execution_count": 4,
   "metadata": {},
   "outputs": [
    {
     "name": "stdout",
     "output_type": "stream",
     "text": [
      "Accuracy: 50.31055900621118 %\n",
      "81 / 161\n"
     ]
    }
   ],
   "source": [
    "# Correct letters / Total Letters\n",
    "print('Accuracy:', punts_total/punts_max*100, '%')\n",
    "print(punts_total, '/', punts_max)"
   ]
  },
  {
   "cell_type": "code",
   "execution_count": 13,
   "metadata": {},
   "outputs": [
    {
     "name": "stderr",
     "output_type": "stream",
     "text": [
      "YOLOv5  2024-10-5 Python-3.9.7 torch-2.4.1+cpu CPU\n",
      "\n",
      "Fusing layers... \n",
      "Model summary: 157 layers, 7012822 parameters, 0 gradients, 15.8 GFLOPs\n",
      "Adding AutoShape... \n"
     ]
    },
    {
     "name": "stdout",
     "output_type": "stream",
     "text": [
      "F\n"
     ]
    }
   ],
   "source": [
    "from funcions_finals.digits_to_predicts_3 import predecir_imagen\n",
    "\n",
    "dig_path = \"digits_reals/alfa/F_1.jpg\"\n",
    "\n",
    "model_yolo, model_alfa, model_num = init_models(\"models/CNN5-num.pt\",\"models/CNN5-alfa.pt\")\n",
    "\n",
    "img = cv2.imread(dig_path, cv2.IMREAD_GRAYSCALE)\n",
    "\n",
    "pred = predecir_imagen(model_alfa,img)\n",
    "\n",
    "predicted_letter = chr(pred + ord('A'))\n",
    "\n",
    "print(predicted_letter)"
   ]
  },
  {
   "cell_type": "markdown",
   "metadata": {},
   "source": [
    "## PROVES INDIVIDUALS FINALS\n"
   ]
  },
  {
   "cell_type": "code",
   "execution_count": 13,
   "metadata": {},
   "outputs": [
    {
     "name": "stderr",
     "output_type": "stream",
     "text": [
      "YOLOv5  2024-10-5 Python-3.9.7 torch-2.4.1+cpu CPU\n",
      "\n",
      "Fusing layers... \n",
      "Model summary: 157 layers, 7012822 parameters, 0 gradients, 15.8 GFLOPs\n",
      "Adding AutoShape... \n"
     ]
    },
    {
     "ename": "FileNotFoundError",
     "evalue": "[Errno 2] No such file or directory: 'models/CNN1-alfa2.pt'",
     "output_type": "error",
     "traceback": [
      "\u001b[1;31m---------------------------------------------------------------------------\u001b[0m",
      "\u001b[1;31mFileNotFoundError\u001b[0m                         Traceback (most recent call last)",
      "Cell \u001b[1;32mIn[13], line 1\u001b[0m\n\u001b[1;32m----> 1\u001b[0m model_yolo, model_alfa, model_num \u001b[38;5;241m=\u001b[39m \u001b[43minit_models\u001b[49m\u001b[43m(\u001b[49m\u001b[38;5;124;43m\"\u001b[39;49m\u001b[38;5;124;43mmodels/CNNog-num2.pt\u001b[39;49m\u001b[38;5;124;43m\"\u001b[39;49m\u001b[43m,\u001b[49m\u001b[38;5;124;43m\"\u001b[39;49m\u001b[38;5;124;43mmodels/CNN1-alfa2.pt\u001b[39;49m\u001b[38;5;124;43m\"\u001b[39;49m\u001b[43m)\u001b[49m\n\u001b[0;32m      3\u001b[0m \u001b[38;5;66;03m# IMG PATH\u001b[39;00m\n\u001b[0;32m      4\u001b[0m image_path \u001b[38;5;241m=\u001b[39m \u001b[38;5;124m'\u001b[39m\u001b[38;5;124mdataset_final/Dataset-Final/4.jpg\u001b[39m\u001b[38;5;124m'\u001b[39m\n",
      "File \u001b[1;32mc:\\Users\\mirvi\\Desktop\\mii\\UAB\\4.1\\PSIV2\\detect mateicules\\r1\\funcions_finals\\detector_matricula.py:24\u001b[0m, in \u001b[0;36minit_models\u001b[1;34m(path_num, path_alfa)\u001b[0m\n\u001b[0;32m     21\u001b[0m model_num \u001b[38;5;241m=\u001b[39m CNNModel_n()\n\u001b[0;32m     23\u001b[0m \u001b[38;5;66;03m# Cargar los estados de los modelos\u001b[39;00m\n\u001b[1;32m---> 24\u001b[0m model_alfa\u001b[38;5;241m.\u001b[39mload_state_dict(\u001b[43mtorch\u001b[49m\u001b[38;5;241;43m.\u001b[39;49m\u001b[43mload\u001b[49m\u001b[43m(\u001b[49m\u001b[43mpath_alfa\u001b[49m\u001b[43m)\u001b[49m)\n\u001b[0;32m     25\u001b[0m model_num\u001b[38;5;241m.\u001b[39mload_state_dict(torch\u001b[38;5;241m.\u001b[39mload(path_num))\n\u001b[0;32m     27\u001b[0m \u001b[38;5;66;03m# Cambiar a modo de evaluación\u001b[39;00m\n",
      "File \u001b[1;32mc:\\Users\\mirvi\\AppData\\Local\\Programs\\Python\\Python39\\lib\\site-packages\\ultralytics\\utils\\patches.py:86\u001b[0m, in \u001b[0;36mtorch_load\u001b[1;34m(*args, **kwargs)\u001b[0m\n\u001b[0;32m     83\u001b[0m \u001b[38;5;28;01mif\u001b[39;00m TORCH_1_13 \u001b[38;5;129;01mand\u001b[39;00m \u001b[38;5;124m\"\u001b[39m\u001b[38;5;124mweights_only\u001b[39m\u001b[38;5;124m\"\u001b[39m \u001b[38;5;129;01mnot\u001b[39;00m \u001b[38;5;129;01min\u001b[39;00m kwargs:\n\u001b[0;32m     84\u001b[0m     kwargs[\u001b[38;5;124m\"\u001b[39m\u001b[38;5;124mweights_only\u001b[39m\u001b[38;5;124m\"\u001b[39m] \u001b[38;5;241m=\u001b[39m \u001b[38;5;28;01mFalse\u001b[39;00m\n\u001b[1;32m---> 86\u001b[0m \u001b[38;5;28;01mreturn\u001b[39;00m _torch_load(\u001b[38;5;241m*\u001b[39margs, \u001b[38;5;241m*\u001b[39m\u001b[38;5;241m*\u001b[39mkwargs)\n",
      "File \u001b[1;32mc:\\Users\\mirvi\\AppData\\Local\\Programs\\Python\\Python39\\lib\\site-packages\\torch\\serialization.py:1065\u001b[0m, in \u001b[0;36mload\u001b[1;34m(f, map_location, pickle_module, weights_only, mmap, **pickle_load_args)\u001b[0m\n\u001b[0;32m   1062\u001b[0m \u001b[38;5;28;01mif\u001b[39;00m \u001b[38;5;124m'\u001b[39m\u001b[38;5;124mencoding\u001b[39m\u001b[38;5;124m'\u001b[39m \u001b[38;5;129;01mnot\u001b[39;00m \u001b[38;5;129;01min\u001b[39;00m pickle_load_args\u001b[38;5;241m.\u001b[39mkeys():\n\u001b[0;32m   1063\u001b[0m     pickle_load_args[\u001b[38;5;124m'\u001b[39m\u001b[38;5;124mencoding\u001b[39m\u001b[38;5;124m'\u001b[39m] \u001b[38;5;241m=\u001b[39m \u001b[38;5;124m'\u001b[39m\u001b[38;5;124mutf-8\u001b[39m\u001b[38;5;124m'\u001b[39m\n\u001b[1;32m-> 1065\u001b[0m \u001b[38;5;28;01mwith\u001b[39;00m \u001b[43m_open_file_like\u001b[49m\u001b[43m(\u001b[49m\u001b[43mf\u001b[49m\u001b[43m,\u001b[49m\u001b[43m \u001b[49m\u001b[38;5;124;43m'\u001b[39;49m\u001b[38;5;124;43mrb\u001b[39;49m\u001b[38;5;124;43m'\u001b[39;49m\u001b[43m)\u001b[49m \u001b[38;5;28;01mas\u001b[39;00m opened_file:\n\u001b[0;32m   1066\u001b[0m     \u001b[38;5;28;01mif\u001b[39;00m _is_zipfile(opened_file):\n\u001b[0;32m   1067\u001b[0m         \u001b[38;5;66;03m# The zipfile reader is going to advance the current file position.\u001b[39;00m\n\u001b[0;32m   1068\u001b[0m         \u001b[38;5;66;03m# If we want to actually tail call to torch.jit.load, we need to\u001b[39;00m\n\u001b[0;32m   1069\u001b[0m         \u001b[38;5;66;03m# reset back to the original position.\u001b[39;00m\n\u001b[0;32m   1070\u001b[0m         orig_position \u001b[38;5;241m=\u001b[39m opened_file\u001b[38;5;241m.\u001b[39mtell()\n",
      "File \u001b[1;32mc:\\Users\\mirvi\\AppData\\Local\\Programs\\Python\\Python39\\lib\\site-packages\\torch\\serialization.py:468\u001b[0m, in \u001b[0;36m_open_file_like\u001b[1;34m(name_or_buffer, mode)\u001b[0m\n\u001b[0;32m    466\u001b[0m \u001b[38;5;28;01mdef\u001b[39;00m \u001b[38;5;21m_open_file_like\u001b[39m(name_or_buffer, mode):\n\u001b[0;32m    467\u001b[0m     \u001b[38;5;28;01mif\u001b[39;00m _is_path(name_or_buffer):\n\u001b[1;32m--> 468\u001b[0m         \u001b[38;5;28;01mreturn\u001b[39;00m \u001b[43m_open_file\u001b[49m\u001b[43m(\u001b[49m\u001b[43mname_or_buffer\u001b[49m\u001b[43m,\u001b[49m\u001b[43m \u001b[49m\u001b[43mmode\u001b[49m\u001b[43m)\u001b[49m\n\u001b[0;32m    469\u001b[0m     \u001b[38;5;28;01melse\u001b[39;00m:\n\u001b[0;32m    470\u001b[0m         \u001b[38;5;28;01mif\u001b[39;00m \u001b[38;5;124m'\u001b[39m\u001b[38;5;124mw\u001b[39m\u001b[38;5;124m'\u001b[39m \u001b[38;5;129;01min\u001b[39;00m mode:\n",
      "File \u001b[1;32mc:\\Users\\mirvi\\AppData\\Local\\Programs\\Python\\Python39\\lib\\site-packages\\torch\\serialization.py:449\u001b[0m, in \u001b[0;36m_open_file.__init__\u001b[1;34m(self, name, mode)\u001b[0m\n\u001b[0;32m    448\u001b[0m \u001b[38;5;28;01mdef\u001b[39;00m \u001b[38;5;21m__init__\u001b[39m(\u001b[38;5;28mself\u001b[39m, name, mode):\n\u001b[1;32m--> 449\u001b[0m     \u001b[38;5;28msuper\u001b[39m()\u001b[38;5;241m.\u001b[39m\u001b[38;5;21m__init__\u001b[39m(\u001b[38;5;28;43mopen\u001b[39;49m\u001b[43m(\u001b[49m\u001b[43mname\u001b[49m\u001b[43m,\u001b[49m\u001b[43m \u001b[49m\u001b[43mmode\u001b[49m\u001b[43m)\u001b[49m)\n",
      "\u001b[1;31mFileNotFoundError\u001b[0m: [Errno 2] No such file or directory: 'models/CNN1-alfa2.pt'"
     ]
    }
   ],
   "source": [
    "model_yolo, model_alfa, model_num = init_models(\"models/CNNog-num2.pt\",\"models/CNN1-alfa2.pt\")\n",
    "\n",
    "# IMG PATH\n",
    "image_path = 'dataset_final/Dataset-Final/4.jpg'\n",
    "\n",
    "# 1. crop matricula\n",
    "matricula = crop_matricula(image_path, model_yolo)\n",
    "\n",
    "# 2. get digits\n",
    "digits = matricula_to_digits(matricula)\n",
    "\n",
    "# 3. get predictions\n",
    "numeric_preds, alfa_preds, full_str = predict_digits(digits, model_num, model_alfa)\n",
    "print(full_str)\n"
   ]
  },
  {
   "cell_type": "code",
   "execution_count": 8,
   "metadata": {},
   "outputs": [
    {
     "name": "stdout",
     "output_type": "stream",
     "text": [
      "5796DKP\n"
     ]
    },
    {
     "data": {
      "text/plain": [
       "<matplotlib.image.AxesImage at 0x140c80a7400>"
      ]
     },
     "execution_count": 8,
     "metadata": {},
     "output_type": "execute_result"
    }
   ],
   "source": []
  }
 ],
 "metadata": {
  "kernelspec": {
   "display_name": "Python 3",
   "language": "python",
   "name": "python3"
  },
  "language_info": {
   "codemirror_mode": {
    "name": "ipython",
    "version": 3
   },
   "file_extension": ".py",
   "mimetype": "text/x-python",
   "name": "python",
   "nbconvert_exporter": "python",
   "pygments_lexer": "ipython3",
   "version": "3.9.7"
  }
 },
 "nbformat": 4,
 "nbformat_minor": 2
}
