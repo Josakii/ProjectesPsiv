{
 "cells": [
  {
   "cell_type": "code",
   "execution_count": 1,
   "metadata": {},
   "outputs": [],
   "source": [
    "from funcions_finals.matricula_to_digits_2 import matricula_to_digits\n",
    "from funcions_finals.digits_to_predicts_3 import predict_digits, CNNModel_a, CNNModel_n\n",
    "import cv2\n",
    "import numpy as np\n",
    "import os\n",
    "from matplotlib import pyplot as plt\n",
    "import torch\n",
    "import torch.nn as nn\n",
    "import torch.nn.functional as F\n",
    "from ultralytics import YOLO\n",
    "from funcions_finals.detector_matricula import init_models\n",
    "from funcions_finals.detector_matricula import detect_matricula\n",
    "from funcions_finals.matricula_to_digits_2 import matricula_to_digits\n",
    "from funcions_finals.digits_to_predicts_3 import predict_digits\n",
    "from funcions_finals.image_to_matricula_1 import crop_matricula\n",
    "\n"
   ]
  },
  {
   "cell_type": "code",
   "execution_count": 2,
   "metadata": {},
   "outputs": [
    {
     "ename": "NameError",
     "evalue": "name 'pd' is not defined",
     "output_type": "error",
     "traceback": [
      "\u001b[1;31m---------------------------------------------------------------------------\u001b[0m",
      "\u001b[1;31mNameError\u001b[0m                                 Traceback (most recent call last)",
      "Cell \u001b[1;32mIn[2], line 4\u001b[0m\n\u001b[0;32m      2\u001b[0m final_df_path_img \u001b[38;5;241m=\u001b[39m \u001b[38;5;124m'\u001b[39m\u001b[38;5;124mdataset_final/Dataset-Final\u001b[39m\u001b[38;5;124m'\u001b[39m\n\u001b[0;32m      3\u001b[0m final_df_path_txt \u001b[38;5;241m=\u001b[39m \u001b[38;5;124m'\u001b[39m\u001b[38;5;124mdataset_final/Matriculas.xlsx\u001b[39m\u001b[38;5;124m'\u001b[39m\n\u001b[1;32m----> 4\u001b[0m final_df \u001b[38;5;241m=\u001b[39m \u001b[43mpd\u001b[49m\u001b[38;5;241m.\u001b[39mread_excel(final_df_path_txt,header\u001b[38;5;241m=\u001b[39m\u001b[38;5;28;01mNone\u001b[39;00m)\n\u001b[0;32m      6\u001b[0m \u001b[38;5;66;03m# init models\u001b[39;00m\n\u001b[0;32m      7\u001b[0m model_yolo, model_alfa, model_num \u001b[38;5;241m=\u001b[39m init_models()\n",
      "\u001b[1;31mNameError\u001b[0m: name 'pd' is not defined"
     ]
    }
   ],
   "source": [
    "# get data\n",
    "final_df_path_img = 'dataset_final/Dataset-Final'\n",
    "final_df_path_txt = 'dataset_final/Matriculas.xlsx'\n",
    "final_df = pd.read_excel(final_df_path_txt,header=None)\n",
    "\n",
    "# init models\n",
    "model_yolo, model_alfa, model_num = init_models()"
   ]
  },
  {
   "cell_type": "markdown",
   "metadata": {},
   "source": [
    "## 1. validar YOLO amb df final"
   ]
  },
  {
   "cell_type": "code",
   "execution_count": 9,
   "metadata": {},
   "outputs": [
    {
     "name": "stderr",
     "output_type": "stream",
     "text": [
      "c:\\Users\\mirvi\\Desktop\\mii\\UAB\\4.1\\PSIV2\\detect mateicules\\r1\\yolov5\\models\\common.py:892: FutureWarning: `torch.cuda.amp.autocast(args...)` is deprecated. Please use `torch.amp.autocast('cuda', args...)` instead.\n",
      "  with amp.autocast(autocast):\n"
     ]
    },
    {
     "name": "stdout",
     "output_type": "stream",
     "text": [
      "Image 0 pixel mean: 155.02111790079078\n"
     ]
    },
    {
     "name": "stderr",
     "output_type": "stream",
     "text": [
      "c:\\Users\\mirvi\\Desktop\\mii\\UAB\\4.1\\PSIV2\\detect mateicules\\r1\\yolov5\\models\\common.py:892: FutureWarning: `torch.cuda.amp.autocast(args...)` is deprecated. Please use `torch.amp.autocast('cuda', args...)` instead.\n",
      "  with amp.autocast(autocast):\n"
     ]
    },
    {
     "name": "stdout",
     "output_type": "stream",
     "text": [
      "Image 1 pixel mean: 192.2921606106344\n"
     ]
    },
    {
     "name": "stderr",
     "output_type": "stream",
     "text": [
      "c:\\Users\\mirvi\\Desktop\\mii\\UAB\\4.1\\PSIV2\\detect mateicules\\r1\\yolov5\\models\\common.py:892: FutureWarning: `torch.cuda.amp.autocast(args...)` is deprecated. Please use `torch.amp.autocast('cuda', args...)` instead.\n",
      "  with amp.autocast(autocast):\n"
     ]
    },
    {
     "name": "stdout",
     "output_type": "stream",
     "text": [
      "Image 2 pixel mean: 177.74905553565858\n"
     ]
    },
    {
     "name": "stderr",
     "output_type": "stream",
     "text": [
      "c:\\Users\\mirvi\\Desktop\\mii\\UAB\\4.1\\PSIV2\\detect mateicules\\r1\\yolov5\\models\\common.py:892: FutureWarning: `torch.cuda.amp.autocast(args...)` is deprecated. Please use `torch.amp.autocast('cuda', args...)` instead.\n",
      "  with amp.autocast(autocast):\n"
     ]
    },
    {
     "name": "stdout",
     "output_type": "stream",
     "text": [
      "Image 3 pixel mean: 132.05808927789582\n"
     ]
    },
    {
     "name": "stderr",
     "output_type": "stream",
     "text": [
      "c:\\Users\\mirvi\\Desktop\\mii\\UAB\\4.1\\PSIV2\\detect mateicules\\r1\\yolov5\\models\\common.py:892: FutureWarning: `torch.cuda.amp.autocast(args...)` is deprecated. Please use `torch.amp.autocast('cuda', args...)` instead.\n",
      "  with amp.autocast(autocast):\n"
     ]
    },
    {
     "name": "stdout",
     "output_type": "stream",
     "text": [
      "Image 4 pixel mean: 163.2371288302349\n"
     ]
    },
    {
     "name": "stderr",
     "output_type": "stream",
     "text": [
      "c:\\Users\\mirvi\\Desktop\\mii\\UAB\\4.1\\PSIV2\\detect mateicules\\r1\\yolov5\\models\\common.py:892: FutureWarning: `torch.cuda.amp.autocast(args...)` is deprecated. Please use `torch.amp.autocast('cuda', args...)` instead.\n",
      "  with amp.autocast(autocast):\n"
     ]
    },
    {
     "name": "stdout",
     "output_type": "stream",
     "text": [
      "Image 5 pixel mean: 143.68611932224874\n"
     ]
    },
    {
     "name": "stderr",
     "output_type": "stream",
     "text": [
      "c:\\Users\\mirvi\\Desktop\\mii\\UAB\\4.1\\PSIV2\\detect mateicules\\r1\\yolov5\\models\\common.py:892: FutureWarning: `torch.cuda.amp.autocast(args...)` is deprecated. Please use `torch.amp.autocast('cuda', args...)` instead.\n",
      "  with amp.autocast(autocast):\n"
     ]
    },
    {
     "name": "stdout",
     "output_type": "stream",
     "text": [
      "Image 6 pixel mean: 164.44602272727272\n"
     ]
    },
    {
     "name": "stderr",
     "output_type": "stream",
     "text": [
      "c:\\Users\\mirvi\\Desktop\\mii\\UAB\\4.1\\PSIV2\\detect mateicules\\r1\\yolov5\\models\\common.py:892: FutureWarning: `torch.cuda.amp.autocast(args...)` is deprecated. Please use `torch.amp.autocast('cuda', args...)` instead.\n",
      "  with amp.autocast(autocast):\n"
     ]
    },
    {
     "name": "stdout",
     "output_type": "stream",
     "text": [
      "Image 7 pixel mean: 188.72445899199167\n"
     ]
    },
    {
     "name": "stderr",
     "output_type": "stream",
     "text": [
      "c:\\Users\\mirvi\\Desktop\\mii\\UAB\\4.1\\PSIV2\\detect mateicules\\r1\\yolov5\\models\\common.py:892: FutureWarning: `torch.cuda.amp.autocast(args...)` is deprecated. Please use `torch.amp.autocast('cuda', args...)` instead.\n",
      "  with amp.autocast(autocast):\n"
     ]
    },
    {
     "name": "stdout",
     "output_type": "stream",
     "text": [
      "Image 8 pixel mean: 136.82819137474604\n"
     ]
    },
    {
     "name": "stderr",
     "output_type": "stream",
     "text": [
      "c:\\Users\\mirvi\\Desktop\\mii\\UAB\\4.1\\PSIV2\\detect mateicules\\r1\\yolov5\\models\\common.py:892: FutureWarning: `torch.cuda.amp.autocast(args...)` is deprecated. Please use `torch.amp.autocast('cuda', args...)` instead.\n",
      "  with amp.autocast(autocast):\n"
     ]
    },
    {
     "name": "stdout",
     "output_type": "stream",
     "text": [
      "Image 9 pixel mean: 171.4130741053818\n"
     ]
    },
    {
     "name": "stderr",
     "output_type": "stream",
     "text": [
      "c:\\Users\\mirvi\\Desktop\\mii\\UAB\\4.1\\PSIV2\\detect mateicules\\r1\\yolov5\\models\\common.py:892: FutureWarning: `torch.cuda.amp.autocast(args...)` is deprecated. Please use `torch.amp.autocast('cuda', args...)` instead.\n",
      "  with amp.autocast(autocast):\n"
     ]
    },
    {
     "name": "stdout",
     "output_type": "stream",
     "text": [
      "Image 10 pixel mean: 161.58173076923077\n"
     ]
    },
    {
     "name": "stderr",
     "output_type": "stream",
     "text": [
      "c:\\Users\\mirvi\\Desktop\\mii\\UAB\\4.1\\PSIV2\\detect mateicules\\r1\\yolov5\\models\\common.py:892: FutureWarning: `torch.cuda.amp.autocast(args...)` is deprecated. Please use `torch.amp.autocast('cuda', args...)` instead.\n",
      "  with amp.autocast(autocast):\n"
     ]
    },
    {
     "name": "stdout",
     "output_type": "stream",
     "text": [
      "Image 11 pixel mean: 170.95514420213823\n"
     ]
    },
    {
     "name": "stderr",
     "output_type": "stream",
     "text": [
      "c:\\Users\\mirvi\\Desktop\\mii\\UAB\\4.1\\PSIV2\\detect mateicules\\r1\\yolov5\\models\\common.py:892: FutureWarning: `torch.cuda.amp.autocast(args...)` is deprecated. Please use `torch.amp.autocast('cuda', args...)` instead.\n",
      "  with amp.autocast(autocast):\n"
     ]
    },
    {
     "name": "stdout",
     "output_type": "stream",
     "text": [
      "Image 12 pixel mean: 141.3949433304272\n"
     ]
    },
    {
     "name": "stderr",
     "output_type": "stream",
     "text": [
      "c:\\Users\\mirvi\\Desktop\\mii\\UAB\\4.1\\PSIV2\\detect mateicules\\r1\\yolov5\\models\\common.py:892: FutureWarning: `torch.cuda.amp.autocast(args...)` is deprecated. Please use `torch.amp.autocast('cuda', args...)` instead.\n",
      "  with amp.autocast(autocast):\n"
     ]
    },
    {
     "name": "stdout",
     "output_type": "stream",
     "text": [
      "Image 13 pixel mean: 136.97131341868183\n"
     ]
    },
    {
     "name": "stderr",
     "output_type": "stream",
     "text": [
      "c:\\Users\\mirvi\\Desktop\\mii\\UAB\\4.1\\PSIV2\\detect mateicules\\r1\\yolov5\\models\\common.py:892: FutureWarning: `torch.cuda.amp.autocast(args...)` is deprecated. Please use `torch.amp.autocast('cuda', args...)` instead.\n",
      "  with amp.autocast(autocast):\n"
     ]
    },
    {
     "name": "stdout",
     "output_type": "stream",
     "text": [
      "Image 14 pixel mean: 158.03881687810258\n"
     ]
    },
    {
     "name": "stderr",
     "output_type": "stream",
     "text": [
      "c:\\Users\\mirvi\\Desktop\\mii\\UAB\\4.1\\PSIV2\\detect mateicules\\r1\\yolov5\\models\\common.py:892: FutureWarning: `torch.cuda.amp.autocast(args...)` is deprecated. Please use `torch.amp.autocast('cuda', args...)` instead.\n",
      "  with amp.autocast(autocast):\n"
     ]
    },
    {
     "name": "stdout",
     "output_type": "stream",
     "text": [
      "Image 15 pixel mean: 142.16011235955057\n"
     ]
    },
    {
     "name": "stderr",
     "output_type": "stream",
     "text": [
      "c:\\Users\\mirvi\\Desktop\\mii\\UAB\\4.1\\PSIV2\\detect mateicules\\r1\\yolov5\\models\\common.py:892: FutureWarning: `torch.cuda.amp.autocast(args...)` is deprecated. Please use `torch.amp.autocast('cuda', args...)` instead.\n",
      "  with amp.autocast(autocast):\n"
     ]
    },
    {
     "name": "stdout",
     "output_type": "stream",
     "text": [
      "Image 16 pixel mean: 148.9505451164887\n"
     ]
    },
    {
     "name": "stderr",
     "output_type": "stream",
     "text": [
      "c:\\Users\\mirvi\\Desktop\\mii\\UAB\\4.1\\PSIV2\\detect mateicules\\r1\\yolov5\\models\\common.py:892: FutureWarning: `torch.cuda.amp.autocast(args...)` is deprecated. Please use `torch.amp.autocast('cuda', args...)` instead.\n",
      "  with amp.autocast(autocast):\n"
     ]
    },
    {
     "name": "stdout",
     "output_type": "stream",
     "text": [
      "Image 17 pixel mean: 145.78936017253776\n"
     ]
    },
    {
     "name": "stderr",
     "output_type": "stream",
     "text": [
      "c:\\Users\\mirvi\\Desktop\\mii\\UAB\\4.1\\PSIV2\\detect mateicules\\r1\\yolov5\\models\\common.py:892: FutureWarning: `torch.cuda.amp.autocast(args...)` is deprecated. Please use `torch.amp.autocast('cuda', args...)` instead.\n",
      "  with amp.autocast(autocast):\n"
     ]
    },
    {
     "name": "stdout",
     "output_type": "stream",
     "text": [
      "Image 18 pixel mean: 154.8007001066006\n"
     ]
    },
    {
     "name": "stderr",
     "output_type": "stream",
     "text": [
      "c:\\Users\\mirvi\\Desktop\\mii\\UAB\\4.1\\PSIV2\\detect mateicules\\r1\\yolov5\\models\\common.py:892: FutureWarning: `torch.cuda.amp.autocast(args...)` is deprecated. Please use `torch.amp.autocast('cuda', args...)` instead.\n",
      "  with amp.autocast(autocast):\n"
     ]
    },
    {
     "name": "stdout",
     "output_type": "stream",
     "text": [
      "Image 19 pixel mean: 162.5573985159319\n"
     ]
    },
    {
     "name": "stderr",
     "output_type": "stream",
     "text": [
      "c:\\Users\\mirvi\\Desktop\\mii\\UAB\\4.1\\PSIV2\\detect mateicules\\r1\\yolov5\\models\\common.py:892: FutureWarning: `torch.cuda.amp.autocast(args...)` is deprecated. Please use `torch.amp.autocast('cuda', args...)` instead.\n",
      "  with amp.autocast(autocast):\n"
     ]
    },
    {
     "name": "stdout",
     "output_type": "stream",
     "text": [
      "Image 20 pixel mean: 140.57473785353218\n"
     ]
    },
    {
     "name": "stderr",
     "output_type": "stream",
     "text": [
      "c:\\Users\\mirvi\\Desktop\\mii\\UAB\\4.1\\PSIV2\\detect mateicules\\r1\\yolov5\\models\\common.py:892: FutureWarning: `torch.cuda.amp.autocast(args...)` is deprecated. Please use `torch.amp.autocast('cuda', args...)` instead.\n",
      "  with amp.autocast(autocast):\n"
     ]
    },
    {
     "name": "stdout",
     "output_type": "stream",
     "text": [
      "Image 21 pixel mean: 145.6927303465765\n"
     ]
    },
    {
     "name": "stderr",
     "output_type": "stream",
     "text": [
      "c:\\Users\\mirvi\\Desktop\\mii\\UAB\\4.1\\PSIV2\\detect mateicules\\r1\\yolov5\\models\\common.py:892: FutureWarning: `torch.cuda.amp.autocast(args...)` is deprecated. Please use `torch.amp.autocast('cuda', args...)` instead.\n",
      "  with amp.autocast(autocast):\n"
     ]
    },
    {
     "name": "stdout",
     "output_type": "stream",
     "text": [
      "Image 22 pixel mean: 154.14556543585337\n"
     ]
    },
    {
     "name": "stderr",
     "output_type": "stream",
     "text": [
      "c:\\Users\\mirvi\\Desktop\\mii\\UAB\\4.1\\PSIV2\\detect mateicules\\r1\\yolov5\\models\\common.py:892: FutureWarning: `torch.cuda.amp.autocast(args...)` is deprecated. Please use `torch.amp.autocast('cuda', args...)` instead.\n",
      "  with amp.autocast(autocast):\n"
     ]
    },
    {
     "name": "stdout",
     "output_type": "stream",
     "text": [
      "Image 23 pixel mean: 139.3678714375997\n"
     ]
    },
    {
     "name": "stderr",
     "output_type": "stream",
     "text": [
      "c:\\Users\\mirvi\\Desktop\\mii\\UAB\\4.1\\PSIV2\\detect mateicules\\r1\\yolov5\\models\\common.py:892: FutureWarning: `torch.cuda.amp.autocast(args...)` is deprecated. Please use `torch.amp.autocast('cuda', args...)` instead.\n",
      "  with amp.autocast(autocast):\n"
     ]
    },
    {
     "name": "stdout",
     "output_type": "stream",
     "text": [
      "Image 24 pixel mean: 148.34203839638622\n"
     ]
    },
    {
     "name": "stderr",
     "output_type": "stream",
     "text": [
      "c:\\Users\\mirvi\\Desktop\\mii\\UAB\\4.1\\PSIV2\\detect mateicules\\r1\\yolov5\\models\\common.py:892: FutureWarning: `torch.cuda.amp.autocast(args...)` is deprecated. Please use `torch.amp.autocast('cuda', args...)` instead.\n",
      "  with amp.autocast(autocast):\n"
     ]
    },
    {
     "name": "stdout",
     "output_type": "stream",
     "text": [
      "Image 25 pixel mean: 120.60905349794238\n"
     ]
    },
    {
     "name": "stderr",
     "output_type": "stream",
     "text": [
      "c:\\Users\\mirvi\\Desktop\\mii\\UAB\\4.1\\PSIV2\\detect mateicules\\r1\\yolov5\\models\\common.py:892: FutureWarning: `torch.cuda.amp.autocast(args...)` is deprecated. Please use `torch.amp.autocast('cuda', args...)` instead.\n",
      "  with amp.autocast(autocast):\n"
     ]
    },
    {
     "name": "stdout",
     "output_type": "stream",
     "text": [
      "Image 26 pixel mean: 91.14632434058771\n"
     ]
    },
    {
     "name": "stderr",
     "output_type": "stream",
     "text": [
      "c:\\Users\\mirvi\\Desktop\\mii\\UAB\\4.1\\PSIV2\\detect mateicules\\r1\\yolov5\\models\\common.py:892: FutureWarning: `torch.cuda.amp.autocast(args...)` is deprecated. Please use `torch.amp.autocast('cuda', args...)` instead.\n",
      "  with amp.autocast(autocast):\n"
     ]
    },
    {
     "name": "stdout",
     "output_type": "stream",
     "text": [
      "Image 27 pixel mean: 102.0800627943485\n"
     ]
    },
    {
     "name": "stderr",
     "output_type": "stream",
     "text": [
      "c:\\Users\\mirvi\\Desktop\\mii\\UAB\\4.1\\PSIV2\\detect mateicules\\r1\\yolov5\\models\\common.py:892: FutureWarning: `torch.cuda.amp.autocast(args...)` is deprecated. Please use `torch.amp.autocast('cuda', args...)` instead.\n",
      "  with amp.autocast(autocast):\n"
     ]
    },
    {
     "name": "stdout",
     "output_type": "stream",
     "text": [
      "Image 28 pixel mean: 110.04230769230769\n"
     ]
    },
    {
     "name": "stderr",
     "output_type": "stream",
     "text": [
      "c:\\Users\\mirvi\\Desktop\\mii\\UAB\\4.1\\PSIV2\\detect mateicules\\r1\\yolov5\\models\\common.py:892: FutureWarning: `torch.cuda.amp.autocast(args...)` is deprecated. Please use `torch.amp.autocast('cuda', args...)` instead.\n",
      "  with amp.autocast(autocast):\n"
     ]
    },
    {
     "name": "stdout",
     "output_type": "stream",
     "text": [
      "Image 29 pixel mean: 171.87606112054328\n"
     ]
    },
    {
     "name": "stderr",
     "output_type": "stream",
     "text": [
      "c:\\Users\\mirvi\\Desktop\\mii\\UAB\\4.1\\PSIV2\\detect mateicules\\r1\\yolov5\\models\\common.py:892: FutureWarning: `torch.cuda.amp.autocast(args...)` is deprecated. Please use `torch.amp.autocast('cuda', args...)` instead.\n",
      "  with amp.autocast(autocast):\n"
     ]
    },
    {
     "name": "stdout",
     "output_type": "stream",
     "text": [
      "Image 30 pixel mean: 141.46085552865213\n"
     ]
    },
    {
     "name": "stderr",
     "output_type": "stream",
     "text": [
      "c:\\Users\\mirvi\\Desktop\\mii\\UAB\\4.1\\PSIV2\\detect mateicules\\r1\\yolov5\\models\\common.py:892: FutureWarning: `torch.cuda.amp.autocast(args...)` is deprecated. Please use `torch.amp.autocast('cuda', args...)` instead.\n",
      "  with amp.autocast(autocast):\n"
     ]
    },
    {
     "name": "stdout",
     "output_type": "stream",
     "text": [
      "Image 31 pixel mean: 185.34936479128856\n"
     ]
    },
    {
     "name": "stderr",
     "output_type": "stream",
     "text": [
      "c:\\Users\\mirvi\\Desktop\\mii\\UAB\\4.1\\PSIV2\\detect mateicules\\r1\\yolov5\\models\\common.py:892: FutureWarning: `torch.cuda.amp.autocast(args...)` is deprecated. Please use `torch.amp.autocast('cuda', args...)` instead.\n",
      "  with amp.autocast(autocast):\n"
     ]
    },
    {
     "name": "stdout",
     "output_type": "stream",
     "text": [
      "Image 32 pixel mean: 185.57554945054946\n"
     ]
    },
    {
     "name": "stderr",
     "output_type": "stream",
     "text": [
      "c:\\Users\\mirvi\\Desktop\\mii\\UAB\\4.1\\PSIV2\\detect mateicules\\r1\\yolov5\\models\\common.py:892: FutureWarning: `torch.cuda.amp.autocast(args...)` is deprecated. Please use `torch.amp.autocast('cuda', args...)` instead.\n",
      "  with amp.autocast(autocast):\n",
      "c:\\Users\\mirvi\\Desktop\\mii\\UAB\\4.1\\PSIV2\\detect mateicules\\r1\\yolov5\\models\\common.py:892: FutureWarning: `torch.cuda.amp.autocast(args...)` is deprecated. Please use `torch.amp.autocast('cuda', args...)` instead.\n",
      "  with amp.autocast(autocast):\n"
     ]
    },
    {
     "name": "stdout",
     "output_type": "stream",
     "text": [
      "Image 33 pixel mean: 140.34112456242707\n",
      "Image 34 pixel mean: 197.6412489379779\n"
     ]
    },
    {
     "name": "stderr",
     "output_type": "stream",
     "text": [
      "c:\\Users\\mirvi\\Desktop\\mii\\UAB\\4.1\\PSIV2\\detect mateicules\\r1\\yolov5\\models\\common.py:892: FutureWarning: `torch.cuda.amp.autocast(args...)` is deprecated. Please use `torch.amp.autocast('cuda', args...)` instead.\n",
      "  with amp.autocast(autocast):\n"
     ]
    },
    {
     "name": "stdout",
     "output_type": "stream",
     "text": [
      "Image 35 pixel mean: 135.88815789473685\n"
     ]
    },
    {
     "name": "stderr",
     "output_type": "stream",
     "text": [
      "c:\\Users\\mirvi\\Desktop\\mii\\UAB\\4.1\\PSIV2\\detect mateicules\\r1\\yolov5\\models\\common.py:892: FutureWarning: `torch.cuda.amp.autocast(args...)` is deprecated. Please use `torch.amp.autocast('cuda', args...)` instead.\n",
      "  with amp.autocast(autocast):\n"
     ]
    },
    {
     "name": "stdout",
     "output_type": "stream",
     "text": [
      "Image 36 pixel mean: 154.09883720930233\n"
     ]
    },
    {
     "name": "stderr",
     "output_type": "stream",
     "text": [
      "c:\\Users\\mirvi\\Desktop\\mii\\UAB\\4.1\\PSIV2\\detect mateicules\\r1\\yolov5\\models\\common.py:892: FutureWarning: `torch.cuda.amp.autocast(args...)` is deprecated. Please use `torch.amp.autocast('cuda', args...)` instead.\n",
      "  with amp.autocast(autocast):\n"
     ]
    },
    {
     "name": "stdout",
     "output_type": "stream",
     "text": [
      "Image 37 pixel mean: 122.9054054054054\n"
     ]
    },
    {
     "name": "stderr",
     "output_type": "stream",
     "text": [
      "c:\\Users\\mirvi\\Desktop\\mii\\UAB\\4.1\\PSIV2\\detect mateicules\\r1\\yolov5\\models\\common.py:892: FutureWarning: `torch.cuda.amp.autocast(args...)` is deprecated. Please use `torch.amp.autocast('cuda', args...)` instead.\n",
      "  with amp.autocast(autocast):\n"
     ]
    },
    {
     "name": "stdout",
     "output_type": "stream",
     "text": [
      "Image 38 pixel mean: 158.3330193122939\n"
     ]
    },
    {
     "name": "stderr",
     "output_type": "stream",
     "text": [
      "c:\\Users\\mirvi\\Desktop\\mii\\UAB\\4.1\\PSIV2\\detect mateicules\\r1\\yolov5\\models\\common.py:892: FutureWarning: `torch.cuda.amp.autocast(args...)` is deprecated. Please use `torch.amp.autocast('cuda', args...)` instead.\n",
      "  with amp.autocast(autocast):\n"
     ]
    },
    {
     "name": "stdout",
     "output_type": "stream",
     "text": [
      "Image 39 pixel mean: 161.755\n"
     ]
    },
    {
     "name": "stderr",
     "output_type": "stream",
     "text": [
      "c:\\Users\\mirvi\\Desktop\\mii\\UAB\\4.1\\PSIV2\\detect mateicules\\r1\\yolov5\\models\\common.py:892: FutureWarning: `torch.cuda.amp.autocast(args...)` is deprecated. Please use `torch.amp.autocast('cuda', args...)` instead.\n",
      "  with amp.autocast(autocast):\n"
     ]
    },
    {
     "name": "stdout",
     "output_type": "stream",
     "text": [
      "Image 40 pixel mean: 164.18632075471697\n"
     ]
    },
    {
     "name": "stderr",
     "output_type": "stream",
     "text": [
      "c:\\Users\\mirvi\\Desktop\\mii\\UAB\\4.1\\PSIV2\\detect mateicules\\r1\\yolov5\\models\\common.py:892: FutureWarning: `torch.cuda.amp.autocast(args...)` is deprecated. Please use `torch.amp.autocast('cuda', args...)` instead.\n",
      "  with amp.autocast(autocast):\n"
     ]
    },
    {
     "name": "stdout",
     "output_type": "stream",
     "text": [
      "Image 41 pixel mean: 110.93503937007874\n"
     ]
    },
    {
     "name": "stderr",
     "output_type": "stream",
     "text": [
      "c:\\Users\\mirvi\\Desktop\\mii\\UAB\\4.1\\PSIV2\\detect mateicules\\r1\\yolov5\\models\\common.py:892: FutureWarning: `torch.cuda.amp.autocast(args...)` is deprecated. Please use `torch.amp.autocast('cuda', args...)` instead.\n",
      "  with amp.autocast(autocast):\n"
     ]
    },
    {
     "name": "stdout",
     "output_type": "stream",
     "text": [
      "Image 42 pixel mean: 132.12982548915917\n"
     ]
    },
    {
     "name": "stderr",
     "output_type": "stream",
     "text": [
      "c:\\Users\\mirvi\\Desktop\\mii\\UAB\\4.1\\PSIV2\\detect mateicules\\r1\\yolov5\\models\\common.py:892: FutureWarning: `torch.cuda.amp.autocast(args...)` is deprecated. Please use `torch.amp.autocast('cuda', args...)` instead.\n",
      "  with amp.autocast(autocast):\n"
     ]
    },
    {
     "name": "stdout",
     "output_type": "stream",
     "text": [
      "Image 43 pixel mean: 132.32142857142858\n"
     ]
    },
    {
     "name": "stderr",
     "output_type": "stream",
     "text": [
      "c:\\Users\\mirvi\\Desktop\\mii\\UAB\\4.1\\PSIV2\\detect mateicules\\r1\\yolov5\\models\\common.py:892: FutureWarning: `torch.cuda.amp.autocast(args...)` is deprecated. Please use `torch.amp.autocast('cuda', args...)` instead.\n",
      "  with amp.autocast(autocast):\n"
     ]
    },
    {
     "name": "stdout",
     "output_type": "stream",
     "text": [
      "Image 44 pixel mean: 155.44238517324737\n"
     ]
    },
    {
     "name": "stderr",
     "output_type": "stream",
     "text": [
      "c:\\Users\\mirvi\\Desktop\\mii\\UAB\\4.1\\PSIV2\\detect mateicules\\r1\\yolov5\\models\\common.py:892: FutureWarning: `torch.cuda.amp.autocast(args...)` is deprecated. Please use `torch.amp.autocast('cuda', args...)` instead.\n",
      "  with amp.autocast(autocast):\n"
     ]
    },
    {
     "name": "stdout",
     "output_type": "stream",
     "text": [
      "Image 45 pixel mean: 158.32226762002043\n"
     ]
    },
    {
     "name": "stderr",
     "output_type": "stream",
     "text": [
      "c:\\Users\\mirvi\\Desktop\\mii\\UAB\\4.1\\PSIV2\\detect mateicules\\r1\\yolov5\\models\\common.py:892: FutureWarning: `torch.cuda.amp.autocast(args...)` is deprecated. Please use `torch.amp.autocast('cuda', args...)` instead.\n",
      "  with amp.autocast(autocast):\n"
     ]
    },
    {
     "name": "stdout",
     "output_type": "stream",
     "text": [
      "Image 46 pixel mean: 145.21260113616802\n"
     ]
    },
    {
     "name": "stderr",
     "output_type": "stream",
     "text": [
      "c:\\Users\\mirvi\\Desktop\\mii\\UAB\\4.1\\PSIV2\\detect mateicules\\r1\\yolov5\\models\\common.py:892: FutureWarning: `torch.cuda.amp.autocast(args...)` is deprecated. Please use `torch.amp.autocast('cuda', args...)` instead.\n",
      "  with amp.autocast(autocast):\n"
     ]
    },
    {
     "name": "stdout",
     "output_type": "stream",
     "text": [
      "Image 47 pixel mean: 192.43205486410972\n"
     ]
    },
    {
     "name": "stderr",
     "output_type": "stream",
     "text": [
      "c:\\Users\\mirvi\\Desktop\\mii\\UAB\\4.1\\PSIV2\\detect mateicules\\r1\\yolov5\\models\\common.py:892: FutureWarning: `torch.cuda.amp.autocast(args...)` is deprecated. Please use `torch.amp.autocast('cuda', args...)` instead.\n",
      "  with amp.autocast(autocast):\n"
     ]
    },
    {
     "name": "stdout",
     "output_type": "stream",
     "text": [
      "Image 48 pixel mean: 153.17307692307693\n"
     ]
    },
    {
     "name": "stderr",
     "output_type": "stream",
     "text": [
      "c:\\Users\\mirvi\\Desktop\\mii\\UAB\\4.1\\PSIV2\\detect mateicules\\r1\\yolov5\\models\\common.py:892: FutureWarning: `torch.cuda.amp.autocast(args...)` is deprecated. Please use `torch.amp.autocast('cuda', args...)` instead.\n",
      "  with amp.autocast(autocast):\n"
     ]
    },
    {
     "name": "stdout",
     "output_type": "stream",
     "text": [
      "Image 49 pixel mean: 151.55113636363637\n"
     ]
    },
    {
     "name": "stderr",
     "output_type": "stream",
     "text": [
      "c:\\Users\\mirvi\\Desktop\\mii\\UAB\\4.1\\PSIV2\\detect mateicules\\r1\\yolov5\\models\\common.py:892: FutureWarning: `torch.cuda.amp.autocast(args...)` is deprecated. Please use `torch.amp.autocast('cuda', args...)` instead.\n",
      "  with amp.autocast(autocast):\n"
     ]
    },
    {
     "name": "stdout",
     "output_type": "stream",
     "text": [
      "Image 50 pixel mean: 208.2603226925746\n"
     ]
    },
    {
     "name": "stderr",
     "output_type": "stream",
     "text": [
      "c:\\Users\\mirvi\\Desktop\\mii\\UAB\\4.1\\PSIV2\\detect mateicules\\r1\\yolov5\\models\\common.py:892: FutureWarning: `torch.cuda.amp.autocast(args...)` is deprecated. Please use `torch.amp.autocast('cuda', args...)` instead.\n",
      "  with amp.autocast(autocast):\n"
     ]
    },
    {
     "name": "stdout",
     "output_type": "stream",
     "text": [
      "Image 51 pixel mean: 170.58319039451115\n"
     ]
    },
    {
     "name": "stderr",
     "output_type": "stream",
     "text": [
      "c:\\Users\\mirvi\\Desktop\\mii\\UAB\\4.1\\PSIV2\\detect mateicules\\r1\\yolov5\\models\\common.py:892: FutureWarning: `torch.cuda.amp.autocast(args...)` is deprecated. Please use `torch.amp.autocast('cuda', args...)` instead.\n",
      "  with amp.autocast(autocast):\n"
     ]
    },
    {
     "name": "stdout",
     "output_type": "stream",
     "text": [
      "Image 52 pixel mean: 148.90367748884444\n"
     ]
    },
    {
     "name": "stderr",
     "output_type": "stream",
     "text": [
      "c:\\Users\\mirvi\\Desktop\\mii\\UAB\\4.1\\PSIV2\\detect mateicules\\r1\\yolov5\\models\\common.py:892: FutureWarning: `torch.cuda.amp.autocast(args...)` is deprecated. Please use `torch.amp.autocast('cuda', args...)` instead.\n",
      "  with amp.autocast(autocast):\n"
     ]
    },
    {
     "name": "stdout",
     "output_type": "stream",
     "text": [
      "Image 53 pixel mean: 171.71478260869566\n"
     ]
    },
    {
     "name": "stderr",
     "output_type": "stream",
     "text": [
      "c:\\Users\\mirvi\\Desktop\\mii\\UAB\\4.1\\PSIV2\\detect mateicules\\r1\\yolov5\\models\\common.py:892: FutureWarning: `torch.cuda.amp.autocast(args...)` is deprecated. Please use `torch.amp.autocast('cuda', args...)` instead.\n",
      "  with amp.autocast(autocast):\n"
     ]
    },
    {
     "name": "stdout",
     "output_type": "stream",
     "text": [
      "Image 54 pixel mean: 136.23497596153845\n"
     ]
    },
    {
     "name": "stderr",
     "output_type": "stream",
     "text": [
      "c:\\Users\\mirvi\\Desktop\\mii\\UAB\\4.1\\PSIV2\\detect mateicules\\r1\\yolov5\\models\\common.py:892: FutureWarning: `torch.cuda.amp.autocast(args...)` is deprecated. Please use `torch.amp.autocast('cuda', args...)` instead.\n",
      "  with amp.autocast(autocast):\n"
     ]
    },
    {
     "name": "stdout",
     "output_type": "stream",
     "text": [
      "Image 55 pixel mean: 171.5872007740083\n"
     ]
    },
    {
     "name": "stderr",
     "output_type": "stream",
     "text": [
      "c:\\Users\\mirvi\\Desktop\\mii\\UAB\\4.1\\PSIV2\\detect mateicules\\r1\\yolov5\\models\\common.py:892: FutureWarning: `torch.cuda.amp.autocast(args...)` is deprecated. Please use `torch.amp.autocast('cuda', args...)` instead.\n",
      "  with amp.autocast(autocast):\n"
     ]
    },
    {
     "name": "stdout",
     "output_type": "stream",
     "text": [
      "Image 56 pixel mean: 119.36324786324786\n"
     ]
    },
    {
     "name": "stderr",
     "output_type": "stream",
     "text": [
      "c:\\Users\\mirvi\\Desktop\\mii\\UAB\\4.1\\PSIV2\\detect mateicules\\r1\\yolov5\\models\\common.py:892: FutureWarning: `torch.cuda.amp.autocast(args...)` is deprecated. Please use `torch.amp.autocast('cuda', args...)` instead.\n",
      "  with amp.autocast(autocast):\n"
     ]
    },
    {
     "name": "stdout",
     "output_type": "stream",
     "text": [
      "Image 57 pixel mean: 88.81901408450705\n"
     ]
    },
    {
     "name": "stderr",
     "output_type": "stream",
     "text": [
      "c:\\Users\\mirvi\\Desktop\\mii\\UAB\\4.1\\PSIV2\\detect mateicules\\r1\\yolov5\\models\\common.py:892: FutureWarning: `torch.cuda.amp.autocast(args...)` is deprecated. Please use `torch.amp.autocast('cuda', args...)` instead.\n",
      "  with amp.autocast(autocast):\n"
     ]
    },
    {
     "name": "stdout",
     "output_type": "stream",
     "text": [
      "Image 58 pixel mean: 220.96784363177807\n"
     ]
    },
    {
     "name": "stderr",
     "output_type": "stream",
     "text": [
      "c:\\Users\\mirvi\\Desktop\\mii\\UAB\\4.1\\PSIV2\\detect mateicules\\r1\\yolov5\\models\\common.py:892: FutureWarning: `torch.cuda.amp.autocast(args...)` is deprecated. Please use `torch.amp.autocast('cuda', args...)` instead.\n",
      "  with amp.autocast(autocast):\n"
     ]
    },
    {
     "name": "stdout",
     "output_type": "stream",
     "text": [
      "Image 59 pixel mean: 150.26785714285714\n"
     ]
    },
    {
     "name": "stderr",
     "output_type": "stream",
     "text": [
      "c:\\Users\\mirvi\\Desktop\\mii\\UAB\\4.1\\PSIV2\\detect mateicules\\r1\\yolov5\\models\\common.py:892: FutureWarning: `torch.cuda.amp.autocast(args...)` is deprecated. Please use `torch.amp.autocast('cuda', args...)` instead.\n",
      "  with amp.autocast(autocast):\n"
     ]
    },
    {
     "name": "stdout",
     "output_type": "stream",
     "text": [
      "Image 60 pixel mean: 174.8425982800983\n"
     ]
    },
    {
     "name": "stderr",
     "output_type": "stream",
     "text": [
      "c:\\Users\\mirvi\\Desktop\\mii\\UAB\\4.1\\PSIV2\\detect mateicules\\r1\\yolov5\\models\\common.py:892: FutureWarning: `torch.cuda.amp.autocast(args...)` is deprecated. Please use `torch.amp.autocast('cuda', args...)` instead.\n",
      "  with amp.autocast(autocast):\n"
     ]
    },
    {
     "name": "stdout",
     "output_type": "stream",
     "text": [
      "Image 61 pixel mean: 134.93395080473732\n"
     ]
    },
    {
     "name": "stderr",
     "output_type": "stream",
     "text": [
      "c:\\Users\\mirvi\\Desktop\\mii\\UAB\\4.1\\PSIV2\\detect mateicules\\r1\\yolov5\\models\\common.py:892: FutureWarning: `torch.cuda.amp.autocast(args...)` is deprecated. Please use `torch.amp.autocast('cuda', args...)` instead.\n",
      "  with amp.autocast(autocast):\n"
     ]
    },
    {
     "name": "stdout",
     "output_type": "stream",
     "text": [
      "Image 62 pixel mean: 152.235\n"
     ]
    },
    {
     "name": "stderr",
     "output_type": "stream",
     "text": [
      "c:\\Users\\mirvi\\Desktop\\mii\\UAB\\4.1\\PSIV2\\detect mateicules\\r1\\yolov5\\models\\common.py:892: FutureWarning: `torch.cuda.amp.autocast(args...)` is deprecated. Please use `torch.amp.autocast('cuda', args...)` instead.\n",
      "  with amp.autocast(autocast):\n"
     ]
    },
    {
     "name": "stdout",
     "output_type": "stream",
     "text": [
      "Image 63 pixel mean: 134.676399026764\n"
     ]
    },
    {
     "name": "stderr",
     "output_type": "stream",
     "text": [
      "c:\\Users\\mirvi\\Desktop\\mii\\UAB\\4.1\\PSIV2\\detect mateicules\\r1\\yolov5\\models\\common.py:892: FutureWarning: `torch.cuda.amp.autocast(args...)` is deprecated. Please use `torch.amp.autocast('cuda', args...)` instead.\n",
      "  with amp.autocast(autocast):\n"
     ]
    },
    {
     "name": "stdout",
     "output_type": "stream",
     "text": [
      "Image 64 pixel mean: 158.6206896551724\n"
     ]
    },
    {
     "name": "stderr",
     "output_type": "stream",
     "text": [
      "c:\\Users\\mirvi\\Desktop\\mii\\UAB\\4.1\\PSIV2\\detect mateicules\\r1\\yolov5\\models\\common.py:892: FutureWarning: `torch.cuda.amp.autocast(args...)` is deprecated. Please use `torch.amp.autocast('cuda', args...)` instead.\n",
      "  with amp.autocast(autocast):\n"
     ]
    },
    {
     "name": "stdout",
     "output_type": "stream",
     "text": [
      "Image 65 pixel mean: 147.0680501930502\n"
     ]
    },
    {
     "name": "stderr",
     "output_type": "stream",
     "text": [
      "c:\\Users\\mirvi\\Desktop\\mii\\UAB\\4.1\\PSIV2\\detect mateicules\\r1\\yolov5\\models\\common.py:892: FutureWarning: `torch.cuda.amp.autocast(args...)` is deprecated. Please use `torch.amp.autocast('cuda', args...)` instead.\n",
      "  with amp.autocast(autocast):\n"
     ]
    },
    {
     "name": "stdout",
     "output_type": "stream",
     "text": [
      "Image 66 pixel mean: 161.59012430939225\n"
     ]
    },
    {
     "name": "stderr",
     "output_type": "stream",
     "text": [
      "c:\\Users\\mirvi\\Desktop\\mii\\UAB\\4.1\\PSIV2\\detect mateicules\\r1\\yolov5\\models\\common.py:892: FutureWarning: `torch.cuda.amp.autocast(args...)` is deprecated. Please use `torch.amp.autocast('cuda', args...)` instead.\n",
      "  with amp.autocast(autocast):\n"
     ]
    },
    {
     "name": "stdout",
     "output_type": "stream",
     "text": [
      "Image 67 pixel mean: 125.82267075148675\n"
     ]
    },
    {
     "name": "stderr",
     "output_type": "stream",
     "text": [
      "c:\\Users\\mirvi\\Desktop\\mii\\UAB\\4.1\\PSIV2\\detect mateicules\\r1\\yolov5\\models\\common.py:892: FutureWarning: `torch.cuda.amp.autocast(args...)` is deprecated. Please use `torch.amp.autocast('cuda', args...)` instead.\n",
      "  with amp.autocast(autocast):\n"
     ]
    },
    {
     "name": "stdout",
     "output_type": "stream",
     "text": [
      "Image 68 pixel mean: 144.08572931276296\n"
     ]
    },
    {
     "name": "stderr",
     "output_type": "stream",
     "text": [
      "c:\\Users\\mirvi\\Desktop\\mii\\UAB\\4.1\\PSIV2\\detect mateicules\\r1\\yolov5\\models\\common.py:892: FutureWarning: `torch.cuda.amp.autocast(args...)` is deprecated. Please use `torch.amp.autocast('cuda', args...)` instead.\n",
      "  with amp.autocast(autocast):\n"
     ]
    },
    {
     "name": "stdout",
     "output_type": "stream",
     "text": [
      "Image 69 pixel mean: 142.06839032527105\n"
     ]
    },
    {
     "name": "stderr",
     "output_type": "stream",
     "text": [
      "c:\\Users\\mirvi\\Desktop\\mii\\UAB\\4.1\\PSIV2\\detect mateicules\\r1\\yolov5\\models\\common.py:892: FutureWarning: `torch.cuda.amp.autocast(args...)` is deprecated. Please use `torch.amp.autocast('cuda', args...)` instead.\n",
      "  with amp.autocast(autocast):\n"
     ]
    },
    {
     "name": "stdout",
     "output_type": "stream",
     "text": [
      "Image 70 pixel mean: 121.41891891891892\n"
     ]
    },
    {
     "name": "stderr",
     "output_type": "stream",
     "text": [
      "c:\\Users\\mirvi\\Desktop\\mii\\UAB\\4.1\\PSIV2\\detect mateicules\\r1\\yolov5\\models\\common.py:892: FutureWarning: `torch.cuda.amp.autocast(args...)` is deprecated. Please use `torch.amp.autocast('cuda', args...)` instead.\n",
      "  with amp.autocast(autocast):\n"
     ]
    },
    {
     "name": "stdout",
     "output_type": "stream",
     "text": [
      "Image 71 pixel mean: 145.00585754451734\n"
     ]
    },
    {
     "name": "stderr",
     "output_type": "stream",
     "text": [
      "c:\\Users\\mirvi\\Desktop\\mii\\UAB\\4.1\\PSIV2\\detect mateicules\\r1\\yolov5\\models\\common.py:892: FutureWarning: `torch.cuda.amp.autocast(args...)` is deprecated. Please use `torch.amp.autocast('cuda', args...)` instead.\n",
      "  with amp.autocast(autocast):\n"
     ]
    },
    {
     "name": "stdout",
     "output_type": "stream",
     "text": [
      "Image 72 pixel mean: 114.78090620921127\n"
     ]
    },
    {
     "name": "stderr",
     "output_type": "stream",
     "text": [
      "c:\\Users\\mirvi\\Desktop\\mii\\UAB\\4.1\\PSIV2\\detect mateicules\\r1\\yolov5\\models\\common.py:892: FutureWarning: `torch.cuda.amp.autocast(args...)` is deprecated. Please use `torch.amp.autocast('cuda', args...)` instead.\n",
      "  with amp.autocast(autocast):\n"
     ]
    },
    {
     "name": "stdout",
     "output_type": "stream",
     "text": [
      "Image 73 pixel mean: 136.68040664644826\n"
     ]
    },
    {
     "name": "stderr",
     "output_type": "stream",
     "text": [
      "c:\\Users\\mirvi\\Desktop\\mii\\UAB\\4.1\\PSIV2\\detect mateicules\\r1\\yolov5\\models\\common.py:892: FutureWarning: `torch.cuda.amp.autocast(args...)` is deprecated. Please use `torch.amp.autocast('cuda', args...)` instead.\n",
      "  with amp.autocast(autocast):\n"
     ]
    },
    {
     "name": "stdout",
     "output_type": "stream",
     "text": [
      "Image 74 pixel mean: 148.96641386782233\n"
     ]
    },
    {
     "name": "stderr",
     "output_type": "stream",
     "text": [
      "c:\\Users\\mirvi\\Desktop\\mii\\UAB\\4.1\\PSIV2\\detect mateicules\\r1\\yolov5\\models\\common.py:892: FutureWarning: `torch.cuda.amp.autocast(args...)` is deprecated. Please use `torch.amp.autocast('cuda', args...)` instead.\n",
      "  with amp.autocast(autocast):\n"
     ]
    },
    {
     "name": "stdout",
     "output_type": "stream",
     "text": [
      "Image 75 pixel mean: 105.72831423895254\n"
     ]
    },
    {
     "name": "stderr",
     "output_type": "stream",
     "text": [
      "c:\\Users\\mirvi\\Desktop\\mii\\UAB\\4.1\\PSIV2\\detect mateicules\\r1\\yolov5\\models\\common.py:892: FutureWarning: `torch.cuda.amp.autocast(args...)` is deprecated. Please use `torch.amp.autocast('cuda', args...)` instead.\n",
      "  with amp.autocast(autocast):\n"
     ]
    },
    {
     "name": "stdout",
     "output_type": "stream",
     "text": [
      "Image 76 pixel mean: 163.09989484752893\n"
     ]
    },
    {
     "name": "stderr",
     "output_type": "stream",
     "text": [
      "c:\\Users\\mirvi\\Desktop\\mii\\UAB\\4.1\\PSIV2\\detect mateicules\\r1\\yolov5\\models\\common.py:892: FutureWarning: `torch.cuda.amp.autocast(args...)` is deprecated. Please use `torch.amp.autocast('cuda', args...)` instead.\n",
      "  with amp.autocast(autocast):\n",
      "c:\\Users\\mirvi\\Desktop\\mii\\UAB\\4.1\\PSIV2\\detect mateicules\\r1\\yolov5\\models\\common.py:892: FutureWarning: `torch.cuda.amp.autocast(args...)` is deprecated. Please use `torch.amp.autocast('cuda', args...)` instead.\n",
      "  with amp.autocast(autocast):\n"
     ]
    },
    {
     "name": "stdout",
     "output_type": "stream",
     "text": [
      "Image 77 pixel mean: 163.86752555664472\n",
      "Image 78 pixel mean: 178.5356477166822\n"
     ]
    },
    {
     "name": "stderr",
     "output_type": "stream",
     "text": [
      "c:\\Users\\mirvi\\Desktop\\mii\\UAB\\4.1\\PSIV2\\detect mateicules\\r1\\yolov5\\models\\common.py:892: FutureWarning: `torch.cuda.amp.autocast(args...)` is deprecated. Please use `torch.amp.autocast('cuda', args...)` instead.\n",
      "  with amp.autocast(autocast):\n"
     ]
    },
    {
     "name": "stdout",
     "output_type": "stream",
     "text": [
      "Image 79 pixel mean: 197.46153846153845\n"
     ]
    },
    {
     "name": "stderr",
     "output_type": "stream",
     "text": [
      "c:\\Users\\mirvi\\Desktop\\mii\\UAB\\4.1\\PSIV2\\detect mateicules\\r1\\yolov5\\models\\common.py:892: FutureWarning: `torch.cuda.amp.autocast(args...)` is deprecated. Please use `torch.amp.autocast('cuda', args...)` instead.\n",
      "  with amp.autocast(autocast):\n"
     ]
    },
    {
     "name": "stdout",
     "output_type": "stream",
     "text": [
      "Image 80 pixel mean: 150.3082191780822\n"
     ]
    },
    {
     "name": "stderr",
     "output_type": "stream",
     "text": [
      "c:\\Users\\mirvi\\Desktop\\mii\\UAB\\4.1\\PSIV2\\detect mateicules\\r1\\yolov5\\models\\common.py:892: FutureWarning: `torch.cuda.amp.autocast(args...)` is deprecated. Please use `torch.amp.autocast('cuda', args...)` instead.\n",
      "  with amp.autocast(autocast):\n"
     ]
    },
    {
     "name": "stdout",
     "output_type": "stream",
     "text": [
      "Image 81 pixel mean: 172.10704225352112\n"
     ]
    },
    {
     "name": "stderr",
     "output_type": "stream",
     "text": [
      "c:\\Users\\mirvi\\Desktop\\mii\\UAB\\4.1\\PSIV2\\detect mateicules\\r1\\yolov5\\models\\common.py:892: FutureWarning: `torch.cuda.amp.autocast(args...)` is deprecated. Please use `torch.amp.autocast('cuda', args...)` instead.\n",
      "  with amp.autocast(autocast):\n"
     ]
    },
    {
     "name": "stdout",
     "output_type": "stream",
     "text": [
      "Image 82 pixel mean: 159.5979020979021\n"
     ]
    },
    {
     "name": "stderr",
     "output_type": "stream",
     "text": [
      "c:\\Users\\mirvi\\Desktop\\mii\\UAB\\4.1\\PSIV2\\detect mateicules\\r1\\yolov5\\models\\common.py:892: FutureWarning: `torch.cuda.amp.autocast(args...)` is deprecated. Please use `torch.amp.autocast('cuda', args...)` instead.\n",
      "  with amp.autocast(autocast):\n"
     ]
    },
    {
     "name": "stdout",
     "output_type": "stream",
     "text": [
      "Image 83 pixel mean: 183.2357142857143\n"
     ]
    },
    {
     "name": "stderr",
     "output_type": "stream",
     "text": [
      "c:\\Users\\mirvi\\Desktop\\mii\\UAB\\4.1\\PSIV2\\detect mateicules\\r1\\yolov5\\models\\common.py:892: FutureWarning: `torch.cuda.amp.autocast(args...)` is deprecated. Please use `torch.amp.autocast('cuda', args...)` instead.\n",
      "  with amp.autocast(autocast):\n"
     ]
    },
    {
     "name": "stdout",
     "output_type": "stream",
     "text": [
      "Image 84 pixel mean: 220.84821428571428\n"
     ]
    },
    {
     "name": "stderr",
     "output_type": "stream",
     "text": [
      "c:\\Users\\mirvi\\Desktop\\mii\\UAB\\4.1\\PSIV2\\detect mateicules\\r1\\yolov5\\models\\common.py:892: FutureWarning: `torch.cuda.amp.autocast(args...)` is deprecated. Please use `torch.amp.autocast('cuda', args...)` instead.\n",
      "  with amp.autocast(autocast):\n"
     ]
    },
    {
     "name": "stdout",
     "output_type": "stream",
     "text": [
      "Image 85 pixel mean: 165.44769709350913\n"
     ]
    }
   ],
   "source": [
    "total = 0\n",
    "correct = []\n",
    "incorrect = []\n",
    "mat_preds = []\n",
    "# Iterar sobre contenido de final_df_path_img\n",
    "for row,img in enumerate(os.listdir(final_df_path_img)):\n",
    "    total += 1\n",
    "    # 1. get img path\n",
    "    image_path = os.path.join(final_df_path_img, img)\n",
    "\n",
    "    # 2. crop matricula\n",
    "    matricula = crop_matricula(image_path, model_yolo)\n",
    "\n",
    "    # # 3. save in folder tmp_cropped as tmp_cropped_{row}.jpg\n",
    "    # matricula_path = 'tmp_cropped'\n",
    "    # matricula_path = os.path.join(matricula_path, f'tmp_cropped_{row}.jpg')\n",
    "    # cv2.imwrite(matricula_path, matricula)\n",
    "\n",
    "    # 4. show image pixel mean\n",
    "    hsv = cv2.cvtColor(matricula, cv2.COLOR_BGR2HSV)\n",
    "    # Obtener el canal de valor (V) del HSV\n",
    "    v_channel = hsv[:,:,2]\n",
    "    # Binarizar la imagen usando el método de Otsu\n",
    "    _, binary_image = cv2.threshold(v_channel, 0, 255, cv2.THRESH_BINARY + cv2.THRESH_OTSU)\n",
    "\n",
    "    print(f'Image {row} pixel mean: {binary_image.mean()}')\n"
   ]
  },
  {
   "cell_type": "code",
   "execution_count": null,
   "metadata": {},
   "outputs": [],
   "source": [
    "total = 0\n",
    "correct = []\n",
    "incorrect = []\n",
    "mat_preds = []\n",
    "# Iterar sobre contenido de final_df_path_img\n",
    "for row,img in enumerate(os.listdir(final_df_path_img)):\n",
    "    total += 1\n",
    "    # 1. get img path\n",
    "    image_path = os.path.join(final_df_path_img, img)"
   ]
  },
  {
   "cell_type": "markdown",
   "metadata": {},
   "source": [
    "## 2. validar find contours amb df final"
   ]
  },
  {
   "cell_type": "code",
   "execution_count": 1,
   "metadata": {},
   "outputs": [],
   "source": [
    "from funcions_finals.matricula_to_digits_2 import matricula_to_digits\n",
    "from funcions_finals.digits_to_predicts_3 import predict_digits, CNNModel_a, CNNModel_n\n",
    "import cv2\n",
    "import numpy as np\n",
    "import os\n",
    "from matplotlib import pyplot as plt\n",
    "import torch\n",
    "import torch.nn as nn\n",
    "import torch.nn.functional as F\n",
    "from ultralytics import YOLO\n",
    "from funcions_finals.detector_matricula import init_models\n",
    "from funcions_finals.detector_matricula import detect_matricula\n",
    "from funcions_finals.matricula_to_digits_2 import matricula_to_digits\n",
    "from funcions_finals.digits_to_predicts_3 import predict_digits\n",
    "from funcions_finals.image_to_matricula_1 import crop_matricula"
   ]
  },
  {
   "cell_type": "code",
   "execution_count": 2,
   "metadata": {},
   "outputs": [
    {
     "name": "stdout",
     "output_type": "stream",
     "text": [
      "tmp_cropped_0.jpg\n",
      "Intent 1\n",
      "tmp_cropped_1.jpg\n",
      "Intent 1\n",
      "Intent 2\n",
      "tmp_cropped_10.jpg\n",
      "Intent 1\n",
      "tmp_cropped_11.jpg\n",
      "Intent 1\n",
      "tmp_cropped_12.jpg\n",
      "Intent 1\n",
      "tmp_cropped_13.jpg\n",
      "Intent 1\n",
      "Intent 2\n",
      "Intent 3\n",
      "tmp_cropped_14.jpg\n",
      "Intent 1\n",
      "tmp_cropped_15.jpg\n",
      "Intent 1\n",
      "tmp_cropped_16.jpg\n",
      "Intent 1\n",
      "tmp_cropped_17.jpg\n",
      "Intent 1\n",
      "Intent 2\n",
      "Intent 3\n",
      "tmp_cropped_18.jpg\n",
      "Intent 1\n",
      "Intent 2\n",
      "Intent 3\n",
      "tmp_cropped_19.jpg\n",
      "Intent 1\n",
      "tmp_cropped_2.jpg\n",
      "Intent 1\n",
      "tmp_cropped_20.jpg\n",
      "Intent 1\n",
      "tmp_cropped_21.jpg\n",
      "Intent 1\n",
      "Intent 2\n",
      "Intent 3\n",
      "tmp_cropped_22.jpg\n",
      "Intent 1\n",
      "tmp_cropped_23.jpg\n",
      "Intent 1\n",
      "tmp_cropped_24.jpg\n",
      "Intent 1\n",
      "Intent 2\n",
      "Intent 3\n",
      "tmp_cropped_25.jpg\n",
      "Intent 1\n",
      "Intent 2\n",
      "Intent 3\n",
      "tmp_cropped_26.jpg\n",
      "Intent 1\n",
      "tmp_cropped_27.jpg\n",
      "Intent 1\n",
      "tmp_cropped_28.jpg\n",
      "Intent 1\n",
      "Intent 2\n",
      "Intent 3\n",
      "tmp_cropped_29.jpg\n",
      "Intent 1\n",
      "tmp_cropped_3.jpg\n",
      "Intent 1\n",
      "tmp_cropped_30.jpg\n",
      "Intent 1\n",
      "Intent 2\n",
      "Intent 3\n",
      "tmp_cropped_31.jpg\n",
      "Intent 1\n",
      "Intent 2\n",
      "Intent 3\n",
      "tmp_cropped_32.jpg\n",
      "Intent 1\n",
      "Intent 2\n",
      "Intent 3\n",
      "tmp_cropped_33.jpg\n",
      "Intent 1\n",
      "tmp_cropped_34.jpg\n",
      "Intent 1\n",
      "Intent 2\n",
      "Intent 3\n",
      "tmp_cropped_35.jpg\n",
      "Intent 1\n",
      "tmp_cropped_36.jpg\n",
      "Intent 1\n",
      "Intent 2\n",
      "Intent 3\n",
      "tmp_cropped_37.jpg\n",
      "Intent 1\n",
      "tmp_cropped_38.jpg\n",
      "Intent 1\n",
      "Intent 2\n",
      "Intent 3\n",
      "tmp_cropped_39.jpg\n",
      "Intent 1\n",
      "Intent 2\n",
      "Intent 3\n",
      "tmp_cropped_4.jpg\n",
      "Intent 1\n",
      "tmp_cropped_40.jpg\n",
      "Intent 1\n",
      "Intent 2\n",
      "Intent 3\n",
      "tmp_cropped_41.jpg\n",
      "Intent 1\n",
      "tmp_cropped_42.jpg\n",
      "Intent 1\n",
      "tmp_cropped_43.jpg\n",
      "Intent 1\n",
      "Intent 2\n",
      "Intent 3\n",
      "tmp_cropped_44.jpg\n",
      "Intent 1\n",
      "tmp_cropped_45.jpg\n",
      "Intent 1\n",
      "Intent 2\n",
      "Intent 3\n",
      "tmp_cropped_46.jpg\n",
      "Intent 1\n",
      "Intent 2\n",
      "Intent 3\n",
      "tmp_cropped_47.jpg\n",
      "Intent 1\n",
      "tmp_cropped_48.jpg\n",
      "Intent 1\n",
      "Intent 2\n",
      "Intent 3\n",
      "tmp_cropped_49.jpg\n",
      "Intent 1\n",
      "tmp_cropped_5.jpg\n",
      "Intent 1\n",
      "tmp_cropped_50.jpg\n",
      "Intent 1\n",
      "Intent 2\n",
      "Intent 3\n",
      "tmp_cropped_51.jpg\n",
      "Intent 1\n",
      "Intent 2\n",
      "Intent 3\n",
      "tmp_cropped_52.jpg\n",
      "Intent 1\n",
      "tmp_cropped_53.jpg\n",
      "Intent 1\n",
      "tmp_cropped_54.jpg\n",
      "Intent 1\n",
      "Intent 2\n",
      "Intent 3\n",
      "tmp_cropped_55.jpg\n",
      "Intent 1\n",
      "Intent 2\n",
      "tmp_cropped_56.jpg\n",
      "Intent 1\n",
      "Intent 2\n",
      "Intent 3\n",
      "tmp_cropped_57.jpg\n",
      "Intent 1\n",
      "tmp_cropped_58.jpg\n",
      "Intent 1\n",
      "Intent 2\n",
      "Intent 3\n",
      "tmp_cropped_59.jpg\n",
      "Intent 1\n",
      "Intent 2\n",
      "Intent 3\n",
      "tmp_cropped_6.jpg\n",
      "Intent 1\n",
      "tmp_cropped_60.jpg\n",
      "Intent 1\n",
      "Intent 2\n",
      "Intent 3\n",
      "tmp_cropped_61.jpg\n",
      "Intent 1\n",
      "Intent 2\n",
      "Intent 3\n",
      "tmp_cropped_62.jpg\n",
      "Intent 1\n",
      "Intent 2\n",
      "Intent 3\n",
      "tmp_cropped_63.jpg\n",
      "Intent 1\n",
      "tmp_cropped_64.jpg\n",
      "Intent 1\n",
      "Intent 2\n",
      "Intent 3\n",
      "tmp_cropped_65.jpg\n",
      "Intent 1\n",
      "Intent 2\n",
      "Intent 3\n",
      "tmp_cropped_66.jpg\n",
      "Intent 1\n",
      "Intent 2\n",
      "Intent 3\n",
      "tmp_cropped_67.jpg\n",
      "Intent 1\n",
      "Intent 2\n",
      "Intent 3\n",
      "tmp_cropped_68.jpg\n",
      "Intent 1\n",
      "Intent 2\n",
      "Intent 3\n",
      "tmp_cropped_69.jpg\n",
      "Intent 1\n",
      "Intent 2\n",
      "Intent 3\n",
      "tmp_cropped_7.jpg\n",
      "Intent 1\n",
      "Intent 2\n",
      "tmp_cropped_70.jpg\n",
      "Intent 1\n",
      "Intent 2\n",
      "Intent 3\n",
      "tmp_cropped_71.jpg\n",
      "Intent 1\n",
      "Intent 2\n",
      "Intent 3\n",
      "tmp_cropped_72.jpg\n",
      "Intent 1\n",
      "Intent 2\n",
      "Intent 3\n",
      "tmp_cropped_73.jpg\n",
      "Intent 1\n",
      "tmp_cropped_74.jpg\n",
      "Intent 1\n",
      "tmp_cropped_75.jpg\n",
      "Intent 1\n",
      "Intent 2\n",
      "Intent 3\n",
      "tmp_cropped_76.jpg\n",
      "Intent 1\n",
      "Intent 2\n",
      "Intent 3\n",
      "tmp_cropped_77.jpg\n",
      "Intent 1\n",
      "tmp_cropped_78.jpg\n",
      "Intent 1\n",
      "Intent 2\n",
      "Intent 3\n",
      "tmp_cropped_79.jpg\n",
      "Intent 1\n",
      "Intent 2\n",
      "Intent 3\n",
      "tmp_cropped_8.jpg\n",
      "Intent 1\n",
      "tmp_cropped_80.jpg\n",
      "Intent 1\n",
      "Intent 2\n",
      "Intent 3\n",
      "tmp_cropped_81.jpg\n",
      "Intent 1\n",
      "Intent 2\n",
      "Intent 3\n",
      "tmp_cropped_82.jpg\n",
      "Intent 1\n",
      "Intent 2\n",
      "Intent 3\n",
      "tmp_cropped_83.jpg\n",
      "Intent 1\n",
      "Intent 2\n",
      "Intent 3\n",
      "tmp_cropped_84.jpg\n",
      "Intent 1\n",
      "Intent 2\n",
      "Intent 3\n",
      "tmp_cropped_85.jpg\n",
      "Intent 1\n",
      "tmp_cropped_9.jpg\n",
      "Intent 1\n",
      "44 / 86\n"
     ]
    }
   ],
   "source": [
    "possible_errors = []\n",
    "error = 0\n",
    "total = 0\n",
    "for i,img in enumerate(os.listdir(\"tmp_cropped\")):\n",
    "    # 1. get img path\n",
    "    image_path = os.path.join(\"tmp_cropped\", img)\n",
    "    \n",
    "    # 2. matricula to digits\n",
    "    print(img)\n",
    "    digits = matricula_to_digits(image_path)\n",
    "\n",
    "    if len(digits) != 7:\n",
    "        possible_errors.append([image_path, digits])\n",
    "        error +=1\n",
    "    \n",
    "    total += 1\n",
    "\n",
    "print(error,'/',total)"
   ]
  },
  {
   "cell_type": "code",
   "execution_count": 3,
   "metadata": {},
   "outputs": [
    {
     "name": "stdout",
     "output_type": "stream",
     "text": [
      "tmp_cropped\\tmp_cropped_17.jpg\n",
      "tmp_cropped\\tmp_cropped_18.jpg\n",
      "tmp_cropped\\tmp_cropped_21.jpg\n",
      "tmp_cropped\\tmp_cropped_24.jpg\n",
      "tmp_cropped\\tmp_cropped_25.jpg\n",
      "tmp_cropped\\tmp_cropped_28.jpg\n",
      "tmp_cropped\\tmp_cropped_30.jpg\n",
      "tmp_cropped\\tmp_cropped_31.jpg\n",
      "tmp_cropped\\tmp_cropped_32.jpg\n",
      "tmp_cropped\\tmp_cropped_34.jpg\n",
      "tmp_cropped\\tmp_cropped_36.jpg\n",
      "tmp_cropped\\tmp_cropped_38.jpg\n",
      "tmp_cropped\\tmp_cropped_39.jpg\n",
      "tmp_cropped\\tmp_cropped_40.jpg\n",
      "tmp_cropped\\tmp_cropped_43.jpg\n",
      "tmp_cropped\\tmp_cropped_45.jpg\n",
      "tmp_cropped\\tmp_cropped_46.jpg\n",
      "tmp_cropped\\tmp_cropped_48.jpg\n",
      "tmp_cropped\\tmp_cropped_51.jpg\n",
      "tmp_cropped\\tmp_cropped_54.jpg\n",
      "tmp_cropped\\tmp_cropped_56.jpg\n",
      "tmp_cropped\\tmp_cropped_58.jpg\n",
      "tmp_cropped\\tmp_cropped_59.jpg\n",
      "tmp_cropped\\tmp_cropped_60.jpg\n",
      "tmp_cropped\\tmp_cropped_61.jpg\n",
      "tmp_cropped\\tmp_cropped_62.jpg\n",
      "tmp_cropped\\tmp_cropped_64.jpg\n",
      "tmp_cropped\\tmp_cropped_65.jpg\n",
      "tmp_cropped\\tmp_cropped_66.jpg\n",
      "tmp_cropped\\tmp_cropped_67.jpg\n",
      "tmp_cropped\\tmp_cropped_68.jpg\n",
      "tmp_cropped\\tmp_cropped_69.jpg\n",
      "tmp_cropped\\tmp_cropped_70.jpg\n",
      "tmp_cropped\\tmp_cropped_71.jpg\n",
      "tmp_cropped\\tmp_cropped_72.jpg\n",
      "tmp_cropped\\tmp_cropped_75.jpg\n",
      "tmp_cropped\\tmp_cropped_76.jpg\n",
      "tmp_cropped\\tmp_cropped_78.jpg\n",
      "tmp_cropped\\tmp_cropped_79.jpg\n",
      "tmp_cropped\\tmp_cropped_80.jpg\n",
      "tmp_cropped\\tmp_cropped_81.jpg\n",
      "tmp_cropped\\tmp_cropped_82.jpg\n",
      "tmp_cropped\\tmp_cropped_83.jpg\n",
      "tmp_cropped\\tmp_cropped_84.jpg\n"
     ]
    }
   ],
   "source": [
    "for err in possible_errors:\n",
    "    print(err[0])"
   ]
  }
 ],
 "metadata": {
  "kernelspec": {
   "display_name": "Python 3",
   "language": "python",
   "name": "python3"
  },
  "language_info": {
   "codemirror_mode": {
    "name": "ipython",
    "version": 3
   },
   "file_extension": ".py",
   "mimetype": "text/x-python",
   "name": "python",
   "nbconvert_exporter": "python",
   "pygments_lexer": "ipython3",
   "version": "3.9.7"
  }
 },
 "nbformat": 4,
 "nbformat_minor": 2
}
