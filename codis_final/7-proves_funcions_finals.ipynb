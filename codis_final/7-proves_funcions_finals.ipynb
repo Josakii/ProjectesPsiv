{
 "cells": [
  {
   "cell_type": "code",
   "execution_count": 6,
   "metadata": {},
   "outputs": [],
   "source": [
    "from funcions_finals.matricula_to_digits_2 import matricula_to_digits\n",
    "from funcions_finals.digits_to_predicts_3 import predict_digits, CNNModel_a, CNNModel_n\n",
    "import cv2\n",
    "import numpy as np\n",
    "import os\n",
    "from matplotlib import pyplot as plt\n",
    "import torch\n",
    "import torch.nn as nn\n",
    "import torch.nn.functional as F\n",
    "from ultralytics import YOLO\n",
    "from funcions_finals.detector_matricula import init_models\n",
    "from funcions_finals.detector_matricula import detect_matricula\n",
    "from funcions_finals.matricula_to_digits_2 import matricula_to_digits\n",
    "from funcions_finals.digits_to_predicts_3 import predict_digits\n",
    "from funcions_finals.image_to_matricula_1 import crop_matricula\n"
   ]
  },
  {
   "cell_type": "markdown",
   "metadata": {},
   "source": [
    "## FALTA:\n",
    "\n",
    "## acabar YOLO:\n",
    "### - EMPALMAR MODEL YOLO\n",
    "### - VALIDAR YOLO (1)\n",
    "\n",
    "## detectar errors img classif\n",
    "### - CREAR METRICA VALID\n",
    "### - VALIDAR IMG CLASSIF (2)\n",
    "### - CROSS VALIDATION\n",
    "### - TEST HIP FINAL\n",
    "\n",
    "## solució errors\n",
    "### - PROVAR NOUS MODELS\n",
    "### - CANVIAR DISTRIBUCIÓ DATASET"
   ]
  },
  {
   "cell_type": "markdown",
   "metadata": {},
   "source": [
    "## 1. IMATGE -> MATRICULA"
   ]
  },
  {
   "cell_type": "code",
   "execution_count": 19,
   "metadata": {},
   "outputs": [
    {
     "name": "stderr",
     "output_type": "stream",
     "text": [
      "YOLOv5  2024-10-5 Python-3.9.7 torch-2.4.1+cpu CPU\n",
      "\n",
      "Fusing layers... \n",
      "Model summary: 157 layers, 7012822 parameters, 0 gradients, 15.8 GFLOPs\n",
      "Adding AutoShape... \n",
      "c:\\Users\\mirvi\\Desktop\\mii\\UAB\\4.1\\PSIV2\\detect mateicules\\r1\\yolov5\\models\\common.py:892: FutureWarning: `torch.cuda.amp.autocast(args...)` is deprecated. Please use `torch.amp.autocast('cuda', args...)` instead.\n",
      "  with amp.autocast(autocast):\n"
     ]
    }
   ],
   "source": [
    "from funcions_finals.image_to_matricula_1 import crop_matricula\n",
    "\n",
    "image_path = 'img_exemple\\mat_es2.jpg'\n",
    "\n",
    "cropped_m = crop_matricula(image_path)"
   ]
  },
  {
   "cell_type": "markdown",
   "metadata": {},
   "source": [
    "## 2. MATRICULA -> DIGITS"
   ]
  },
  {
   "cell_type": "markdown",
   "metadata": {},
   "source": [
    "- input: cv2 image\n",
    "- output: list dels digits cv2 image"
   ]
  },
  {
   "cell_type": "code",
   "execution_count": 20,
   "metadata": {},
   "outputs": [
    {
     "name": "stdout",
     "output_type": "stream",
     "text": [
      "22 23 16 31\n",
      "40 21 15 30\n",
      "57 18 14 31\n",
      "73 16 15 30\n",
      "97 12 14 31\n",
      "113 10 13 30\n",
      "128 7 14 30\n",
      "(31, 16)\n",
      "(30, 15)\n",
      "(31, 14)\n",
      "(30, 15)\n",
      "(31, 14)\n",
      "(30, 13)\n",
      "(30, 14)\n"
     ]
    }
   ],
   "source": [
    "digits = matricula_to_digits(cropped_m)\n",
    "\n",
    "num_digits = digits[0:4]\n",
    "alfa_digits = digits[4:7]"
   ]
  },
  {
   "cell_type": "markdown",
   "metadata": {},
   "source": [
    "## 3. DIGITS -> PREDICT"
   ]
  },
  {
   "cell_type": "code",
   "execution_count": 22,
   "metadata": {},
   "outputs": [
    {
     "data": {
      "text/plain": [
       "CNNModel_n(\n",
       "  (conv1): Conv2d(1, 32, kernel_size=(3, 3), stride=(1, 1), padding=(1, 1))\n",
       "  (pool1): MaxPool2d(kernel_size=2, stride=2, padding=0, dilation=1, ceil_mode=False)\n",
       "  (conv2): Conv2d(32, 64, kernel_size=(3, 3), stride=(1, 1), padding=(1, 1))\n",
       "  (pool2): MaxPool2d(kernel_size=2, stride=2, padding=0, dilation=1, ceil_mode=False)\n",
       "  (conv3): Conv2d(64, 128, kernel_size=(3, 3), stride=(1, 1), padding=(1, 1))\n",
       "  (pool3): MaxPool2d(kernel_size=2, stride=2, padding=0, dilation=1, ceil_mode=False)\n",
       "  (fc1): Linear(in_features=5120, out_features=128, bias=True)\n",
       "  (dropout): Dropout(p=0.5, inplace=False)\n",
       "  (fc2): Linear(in_features=128, out_features=10, bias=True)\n",
       ")"
      ]
     },
     "execution_count": 22,
     "metadata": {},
     "output_type": "execute_result"
    }
   ],
   "source": [
    "# Inicializar los modelos\n",
    "model_alfa = CNNModel_a()\n",
    "model_num = CNNModel_n()\n",
    "\n",
    "# Cargar los estados de los modelos\n",
    "model_alfa.load_state_dict(torch.load(\"models/CNN1-alfa.pt\"))\n",
    "model_num.load_state_dict(torch.load(\"models/CNN1-numeros.pt\"))\n",
    "\n",
    "# Cambiar a modo de evaluación\n",
    "model_alfa.eval()\n",
    "model_num.eval()"
   ]
  },
  {
   "cell_type": "code",
   "execution_count": 23,
   "metadata": {},
   "outputs": [],
   "source": [
    "num_preds, alfa_preds = predict_digits(num_digits, alfa_digits,model_num,model_alfa)"
   ]
  },
  {
   "cell_type": "code",
   "execution_count": 24,
   "metadata": {},
   "outputs": [
    {
     "name": "stdout",
     "output_type": "stream",
     "text": [
      "[0, 9, 5, 8] ['K', 'C', 'J']\n"
     ]
    }
   ],
   "source": [
    "# show original image\n",
    "plt.figure()\n",
    "plt.imshow(cv2.cvtColor(cropped_m, cv2.COLOR_BGR2RGB))\n",
    "\n",
    "# show predicted digits\n",
    "print(num_preds, alfa_preds)"
   ]
  },
  {
   "cell_type": "markdown",
   "metadata": {},
   "source": [
    "## FUNCIO FINAL"
   ]
  },
  {
   "cell_type": "code",
   "execution_count": 27,
   "metadata": {},
   "outputs": [
    {
     "name": "stderr",
     "output_type": "stream",
     "text": [
      "YOLOv5  2024-10-5 Python-3.9.7 torch-2.4.1+cpu CPU\n",
      "\n",
      "Fusing layers... \n",
      "Model summary: 157 layers, 7012822 parameters, 0 gradients, 15.8 GFLOPs\n",
      "Adding AutoShape... \n",
      "c:\\Users\\mirvi\\Desktop\\mii\\UAB\\4.1\\PSIV2\\detect mateicules\\r1\\yolov5\\models\\common.py:892: FutureWarning: `torch.cuda.amp.autocast(args...)` is deprecated. Please use `torch.amp.autocast('cuda', args...)` instead.\n",
      "  with amp.autocast(autocast):\n"
     ]
    },
    {
     "name": "stdout",
     "output_type": "stream",
     "text": [
      "22 23 16 31\n",
      "40 21 15 30\n",
      "57 18 14 31\n",
      "73 16 15 30\n",
      "97 12 14 31\n",
      "113 10 13 30\n",
      "128 7 14 30\n",
      "(31, 16)\n",
      "(30, 15)\n",
      "(31, 14)\n",
      "(30, 15)\n",
      "(31, 14)\n",
      "(30, 13)\n",
      "(30, 14)\n",
      "[0, 9, 5, 8] ['K', 'C', 'J']\n"
     ]
    }
   ],
   "source": [
    "from funcions_finals.detector_matricula import detect_matricula\n",
    "\n",
    "image_path = 'img_exemple\\mat_es2.jpg'\n",
    "\n",
    "num_preds, alfa_preds = detect_matricula(image_path)\n",
    "\n",
    "image = cv2.imread(image_path)\n",
    "plt.figure()\n",
    "plt.imshow(cv2.cvtColor(image, cv2.COLOR_BGR2RGB))\n",
    "\n",
    "print(num_preds, alfa_preds)"
   ]
  },
  {
   "cell_type": "markdown",
   "metadata": {},
   "source": [
    "## VALIDACIÓ"
   ]
  },
  {
   "cell_type": "code",
   "execution_count": 2,
   "metadata": {},
   "outputs": [
    {
     "name": "stderr",
     "output_type": "stream",
     "text": [
      "YOLOv5  2024-10-5 Python-3.9.7 torch-2.4.1+cpu CPU\n",
      "\n",
      "Fusing layers... \n",
      "Model summary: 157 layers, 7012822 parameters, 0 gradients, 15.8 GFLOPs\n",
      "Adding AutoShape... \n"
     ]
    }
   ],
   "source": [
    "import pandas as pd\n",
    "from funcions_finals.detector_matricula import init_models\n",
    "from funcions_finals.detector_matricula import detect_matricula\n",
    "from funcions_finals.matricula_to_digits_2 import matricula_to_digits\n",
    "from funcions_finals.digits_to_predicts_3 import predict_digits\n",
    "from funcions_finals.image_to_matricula_1 import crop_matricula\n",
    "import os\n",
    "\n",
    "# get data\n",
    "final_df_path_img = 'dataset_final/Dataset-Final'\n",
    "final_df_path_txt = 'dataset_final/Matriculas.xlsx'\n",
    "final_df = pd.read_excel(final_df_path_txt,header=None)\n",
    "\n",
    "# init models\n",
    "model_yolo, model_alfa, model_num = init_models()"
   ]
  },
  {
   "cell_type": "code",
   "execution_count": 17,
   "metadata": {},
   "outputs": [
    {
     "name": "stdout",
     "output_type": "stream",
     "text": [
      "['1', '2', '3', '4']\n"
     ]
    }
   ],
   "source": [
    "a =  [1,2,3,4]\n",
    "b = [str(n) for n in a]\n",
    "print(b)"
   ]
  },
  {
   "cell_type": "code",
   "execution_count": 3,
   "metadata": {},
   "outputs": [
    {
     "name": "stderr",
     "output_type": "stream",
     "text": [
      "c:\\Users\\mirvi\\Desktop\\mii\\UAB\\4.1\\PSIV2\\detect mateicules\\r1\\yolov5\\models\\common.py:892: FutureWarning: `torch.cuda.amp.autocast(args...)` is deprecated. Please use `torch.amp.autocast('cuda', args...)` instead.\n",
      "  with amp.autocast(autocast):\n",
      "c:\\Users\\mirvi\\Desktop\\mii\\UAB\\4.1\\PSIV2\\detect mateicules\\r1\\yolov5\\models\\common.py:892: FutureWarning: `torch.cuda.amp.autocast(args...)` is deprecated. Please use `torch.amp.autocast('cuda', args...)` instead.\n",
      "  with amp.autocast(autocast):\n",
      "c:\\Users\\mirvi\\Desktop\\mii\\UAB\\4.1\\PSIV2\\detect mateicules\\r1\\yolov5\\models\\common.py:892: FutureWarning: `torch.cuda.amp.autocast(args...)` is deprecated. Please use `torch.amp.autocast('cuda', args...)` instead.\n",
      "  with amp.autocast(autocast):\n",
      "c:\\Users\\mirvi\\Desktop\\mii\\UAB\\4.1\\PSIV2\\detect mateicules\\r1\\yolov5\\models\\common.py:892: FutureWarning: `torch.cuda.amp.autocast(args...)` is deprecated. Please use `torch.amp.autocast('cuda', args...)` instead.\n",
      "  with amp.autocast(autocast):\n",
      "c:\\Users\\mirvi\\Desktop\\mii\\UAB\\4.1\\PSIV2\\detect mateicules\\r1\\yolov5\\models\\common.py:892: FutureWarning: `torch.cuda.amp.autocast(args...)` is deprecated. Please use `torch.amp.autocast('cuda', args...)` instead.\n",
      "  with amp.autocast(autocast):\n",
      "c:\\Users\\mirvi\\Desktop\\mii\\UAB\\4.1\\PSIV2\\detect mateicules\\r1\\yolov5\\models\\common.py:892: FutureWarning: `torch.cuda.amp.autocast(args...)` is deprecated. Please use `torch.amp.autocast('cuda', args...)` instead.\n",
      "  with amp.autocast(autocast):\n",
      "c:\\Users\\mirvi\\Desktop\\mii\\UAB\\4.1\\PSIV2\\detect mateicules\\r1\\yolov5\\models\\common.py:892: FutureWarning: `torch.cuda.amp.autocast(args...)` is deprecated. Please use `torch.amp.autocast('cuda', args...)` instead.\n",
      "  with amp.autocast(autocast):\n",
      "c:\\Users\\mirvi\\Desktop\\mii\\UAB\\4.1\\PSIV2\\detect mateicules\\r1\\yolov5\\models\\common.py:892: FutureWarning: `torch.cuda.amp.autocast(args...)` is deprecated. Please use `torch.amp.autocast('cuda', args...)` instead.\n",
      "  with amp.autocast(autocast):\n",
      "c:\\Users\\mirvi\\Desktop\\mii\\UAB\\4.1\\PSIV2\\detect mateicules\\r1\\yolov5\\models\\common.py:892: FutureWarning: `torch.cuda.amp.autocast(args...)` is deprecated. Please use `torch.amp.autocast('cuda', args...)` instead.\n",
      "  with amp.autocast(autocast):\n",
      "c:\\Users\\mirvi\\Desktop\\mii\\UAB\\4.1\\PSIV2\\detect mateicules\\r1\\yolov5\\models\\common.py:892: FutureWarning: `torch.cuda.amp.autocast(args...)` is deprecated. Please use `torch.amp.autocast('cuda', args...)` instead.\n",
      "  with amp.autocast(autocast):\n",
      "c:\\Users\\mirvi\\Desktop\\mii\\UAB\\4.1\\PSIV2\\detect mateicules\\r1\\yolov5\\models\\common.py:892: FutureWarning: `torch.cuda.amp.autocast(args...)` is deprecated. Please use `torch.amp.autocast('cuda', args...)` instead.\n",
      "  with amp.autocast(autocast):\n",
      "c:\\Users\\mirvi\\Desktop\\mii\\UAB\\4.1\\PSIV2\\detect mateicules\\r1\\yolov5\\models\\common.py:892: FutureWarning: `torch.cuda.amp.autocast(args...)` is deprecated. Please use `torch.amp.autocast('cuda', args...)` instead.\n",
      "  with amp.autocast(autocast):\n",
      "c:\\Users\\mirvi\\Desktop\\mii\\UAB\\4.1\\PSIV2\\detect mateicules\\r1\\yolov5\\models\\common.py:892: FutureWarning: `torch.cuda.amp.autocast(args...)` is deprecated. Please use `torch.amp.autocast('cuda', args...)` instead.\n",
      "  with amp.autocast(autocast):\n",
      "c:\\Users\\mirvi\\Desktop\\mii\\UAB\\4.1\\PSIV2\\detect mateicules\\r1\\yolov5\\models\\common.py:892: FutureWarning: `torch.cuda.amp.autocast(args...)` is deprecated. Please use `torch.amp.autocast('cuda', args...)` instead.\n",
      "  with amp.autocast(autocast):\n",
      "c:\\Users\\mirvi\\Desktop\\mii\\UAB\\4.1\\PSIV2\\detect mateicules\\r1\\yolov5\\models\\common.py:892: FutureWarning: `torch.cuda.amp.autocast(args...)` is deprecated. Please use `torch.amp.autocast('cuda', args...)` instead.\n",
      "  with amp.autocast(autocast):\n",
      "c:\\Users\\mirvi\\Desktop\\mii\\UAB\\4.1\\PSIV2\\detect mateicules\\r1\\yolov5\\models\\common.py:892: FutureWarning: `torch.cuda.amp.autocast(args...)` is deprecated. Please use `torch.amp.autocast('cuda', args...)` instead.\n",
      "  with amp.autocast(autocast):\n",
      "c:\\Users\\mirvi\\Desktop\\mii\\UAB\\4.1\\PSIV2\\detect mateicules\\r1\\yolov5\\models\\common.py:892: FutureWarning: `torch.cuda.amp.autocast(args...)` is deprecated. Please use `torch.amp.autocast('cuda', args...)` instead.\n",
      "  with amp.autocast(autocast):\n",
      "c:\\Users\\mirvi\\Desktop\\mii\\UAB\\4.1\\PSIV2\\detect mateicules\\r1\\yolov5\\models\\common.py:892: FutureWarning: `torch.cuda.amp.autocast(args...)` is deprecated. Please use `torch.amp.autocast('cuda', args...)` instead.\n",
      "  with amp.autocast(autocast):\n",
      "c:\\Users\\mirvi\\Desktop\\mii\\UAB\\4.1\\PSIV2\\detect mateicules\\r1\\yolov5\\models\\common.py:892: FutureWarning: `torch.cuda.amp.autocast(args...)` is deprecated. Please use `torch.amp.autocast('cuda', args...)` instead.\n",
      "  with amp.autocast(autocast):\n",
      "c:\\Users\\mirvi\\Desktop\\mii\\UAB\\4.1\\PSIV2\\detect mateicules\\r1\\yolov5\\models\\common.py:892: FutureWarning: `torch.cuda.amp.autocast(args...)` is deprecated. Please use `torch.amp.autocast('cuda', args...)` instead.\n",
      "  with amp.autocast(autocast):\n",
      "c:\\Users\\mirvi\\Desktop\\mii\\UAB\\4.1\\PSIV2\\detect mateicules\\r1\\yolov5\\models\\common.py:892: FutureWarning: `torch.cuda.amp.autocast(args...)` is deprecated. Please use `torch.amp.autocast('cuda', args...)` instead.\n",
      "  with amp.autocast(autocast):\n",
      "c:\\Users\\mirvi\\Desktop\\mii\\UAB\\4.1\\PSIV2\\detect mateicules\\r1\\yolov5\\models\\common.py:892: FutureWarning: `torch.cuda.amp.autocast(args...)` is deprecated. Please use `torch.amp.autocast('cuda', args...)` instead.\n",
      "  with amp.autocast(autocast):\n",
      "c:\\Users\\mirvi\\Desktop\\mii\\UAB\\4.1\\PSIV2\\detect mateicules\\r1\\yolov5\\models\\common.py:892: FutureWarning: `torch.cuda.amp.autocast(args...)` is deprecated. Please use `torch.amp.autocast('cuda', args...)` instead.\n",
      "  with amp.autocast(autocast):\n",
      "c:\\Users\\mirvi\\Desktop\\mii\\UAB\\4.1\\PSIV2\\detect mateicules\\r1\\yolov5\\models\\common.py:892: FutureWarning: `torch.cuda.amp.autocast(args...)` is deprecated. Please use `torch.amp.autocast('cuda', args...)` instead.\n",
      "  with amp.autocast(autocast):\n",
      "c:\\Users\\mirvi\\Desktop\\mii\\UAB\\4.1\\PSIV2\\detect mateicules\\r1\\yolov5\\models\\common.py:892: FutureWarning: `torch.cuda.amp.autocast(args...)` is deprecated. Please use `torch.amp.autocast('cuda', args...)` instead.\n",
      "  with amp.autocast(autocast):\n",
      "c:\\Users\\mirvi\\Desktop\\mii\\UAB\\4.1\\PSIV2\\detect mateicules\\r1\\yolov5\\models\\common.py:892: FutureWarning: `torch.cuda.amp.autocast(args...)` is deprecated. Please use `torch.amp.autocast('cuda', args...)` instead.\n",
      "  with amp.autocast(autocast):\n",
      "c:\\Users\\mirvi\\Desktop\\mii\\UAB\\4.1\\PSIV2\\detect mateicules\\r1\\yolov5\\models\\common.py:892: FutureWarning: `torch.cuda.amp.autocast(args...)` is deprecated. Please use `torch.amp.autocast('cuda', args...)` instead.\n",
      "  with amp.autocast(autocast):\n",
      "c:\\Users\\mirvi\\Desktop\\mii\\UAB\\4.1\\PSIV2\\detect mateicules\\r1\\yolov5\\models\\common.py:892: FutureWarning: `torch.cuda.amp.autocast(args...)` is deprecated. Please use `torch.amp.autocast('cuda', args...)` instead.\n",
      "  with amp.autocast(autocast):\n",
      "c:\\Users\\mirvi\\Desktop\\mii\\UAB\\4.1\\PSIV2\\detect mateicules\\r1\\yolov5\\models\\common.py:892: FutureWarning: `torch.cuda.amp.autocast(args...)` is deprecated. Please use `torch.amp.autocast('cuda', args...)` instead.\n",
      "  with amp.autocast(autocast):\n",
      "c:\\Users\\mirvi\\Desktop\\mii\\UAB\\4.1\\PSIV2\\detect mateicules\\r1\\yolov5\\models\\common.py:892: FutureWarning: `torch.cuda.amp.autocast(args...)` is deprecated. Please use `torch.amp.autocast('cuda', args...)` instead.\n",
      "  with amp.autocast(autocast):\n",
      "c:\\Users\\mirvi\\Desktop\\mii\\UAB\\4.1\\PSIV2\\detect mateicules\\r1\\yolov5\\models\\common.py:892: FutureWarning: `torch.cuda.amp.autocast(args...)` is deprecated. Please use `torch.amp.autocast('cuda', args...)` instead.\n",
      "  with amp.autocast(autocast):\n",
      "c:\\Users\\mirvi\\Desktop\\mii\\UAB\\4.1\\PSIV2\\detect mateicules\\r1\\yolov5\\models\\common.py:892: FutureWarning: `torch.cuda.amp.autocast(args...)` is deprecated. Please use `torch.amp.autocast('cuda', args...)` instead.\n",
      "  with amp.autocast(autocast):\n",
      "c:\\Users\\mirvi\\Desktop\\mii\\UAB\\4.1\\PSIV2\\detect mateicules\\r1\\yolov5\\models\\common.py:892: FutureWarning: `torch.cuda.amp.autocast(args...)` is deprecated. Please use `torch.amp.autocast('cuda', args...)` instead.\n",
      "  with amp.autocast(autocast):\n",
      "c:\\Users\\mirvi\\Desktop\\mii\\UAB\\4.1\\PSIV2\\detect mateicules\\r1\\yolov5\\models\\common.py:892: FutureWarning: `torch.cuda.amp.autocast(args...)` is deprecated. Please use `torch.amp.autocast('cuda', args...)` instead.\n",
      "  with amp.autocast(autocast):\n",
      "c:\\Users\\mirvi\\Desktop\\mii\\UAB\\4.1\\PSIV2\\detect mateicules\\r1\\yolov5\\models\\common.py:892: FutureWarning: `torch.cuda.amp.autocast(args...)` is deprecated. Please use `torch.amp.autocast('cuda', args...)` instead.\n",
      "  with amp.autocast(autocast):\n",
      "c:\\Users\\mirvi\\Desktop\\mii\\UAB\\4.1\\PSIV2\\detect mateicules\\r1\\yolov5\\models\\common.py:892: FutureWarning: `torch.cuda.amp.autocast(args...)` is deprecated. Please use `torch.amp.autocast('cuda', args...)` instead.\n",
      "  with amp.autocast(autocast):\n",
      "c:\\Users\\mirvi\\Desktop\\mii\\UAB\\4.1\\PSIV2\\detect mateicules\\r1\\yolov5\\models\\common.py:892: FutureWarning: `torch.cuda.amp.autocast(args...)` is deprecated. Please use `torch.amp.autocast('cuda', args...)` instead.\n",
      "  with amp.autocast(autocast):\n",
      "c:\\Users\\mirvi\\Desktop\\mii\\UAB\\4.1\\PSIV2\\detect mateicules\\r1\\yolov5\\models\\common.py:892: FutureWarning: `torch.cuda.amp.autocast(args...)` is deprecated. Please use `torch.amp.autocast('cuda', args...)` instead.\n",
      "  with amp.autocast(autocast):\n",
      "c:\\Users\\mirvi\\Desktop\\mii\\UAB\\4.1\\PSIV2\\detect mateicules\\r1\\yolov5\\models\\common.py:892: FutureWarning: `torch.cuda.amp.autocast(args...)` is deprecated. Please use `torch.amp.autocast('cuda', args...)` instead.\n",
      "  with amp.autocast(autocast):\n",
      "c:\\Users\\mirvi\\Desktop\\mii\\UAB\\4.1\\PSIV2\\detect mateicules\\r1\\yolov5\\models\\common.py:892: FutureWarning: `torch.cuda.amp.autocast(args...)` is deprecated. Please use `torch.amp.autocast('cuda', args...)` instead.\n",
      "  with amp.autocast(autocast):\n",
      "c:\\Users\\mirvi\\Desktop\\mii\\UAB\\4.1\\PSIV2\\detect mateicules\\r1\\yolov5\\models\\common.py:892: FutureWarning: `torch.cuda.amp.autocast(args...)` is deprecated. Please use `torch.amp.autocast('cuda', args...)` instead.\n",
      "  with amp.autocast(autocast):\n",
      "c:\\Users\\mirvi\\Desktop\\mii\\UAB\\4.1\\PSIV2\\detect mateicules\\r1\\yolov5\\models\\common.py:892: FutureWarning: `torch.cuda.amp.autocast(args...)` is deprecated. Please use `torch.amp.autocast('cuda', args...)` instead.\n",
      "  with amp.autocast(autocast):\n",
      "c:\\Users\\mirvi\\Desktop\\mii\\UAB\\4.1\\PSIV2\\detect mateicules\\r1\\yolov5\\models\\common.py:892: FutureWarning: `torch.cuda.amp.autocast(args...)` is deprecated. Please use `torch.amp.autocast('cuda', args...)` instead.\n",
      "  with amp.autocast(autocast):\n",
      "c:\\Users\\mirvi\\Desktop\\mii\\UAB\\4.1\\PSIV2\\detect mateicules\\r1\\yolov5\\models\\common.py:892: FutureWarning: `torch.cuda.amp.autocast(args...)` is deprecated. Please use `torch.amp.autocast('cuda', args...)` instead.\n",
      "  with amp.autocast(autocast):\n",
      "c:\\Users\\mirvi\\Desktop\\mii\\UAB\\4.1\\PSIV2\\detect mateicules\\r1\\yolov5\\models\\common.py:892: FutureWarning: `torch.cuda.amp.autocast(args...)` is deprecated. Please use `torch.amp.autocast('cuda', args...)` instead.\n",
      "  with amp.autocast(autocast):\n",
      "c:\\Users\\mirvi\\Desktop\\mii\\UAB\\4.1\\PSIV2\\detect mateicules\\r1\\yolov5\\models\\common.py:892: FutureWarning: `torch.cuda.amp.autocast(args...)` is deprecated. Please use `torch.amp.autocast('cuda', args...)` instead.\n",
      "  with amp.autocast(autocast):\n",
      "c:\\Users\\mirvi\\Desktop\\mii\\UAB\\4.1\\PSIV2\\detect mateicules\\r1\\yolov5\\models\\common.py:892: FutureWarning: `torch.cuda.amp.autocast(args...)` is deprecated. Please use `torch.amp.autocast('cuda', args...)` instead.\n",
      "  with amp.autocast(autocast):\n",
      "c:\\Users\\mirvi\\Desktop\\mii\\UAB\\4.1\\PSIV2\\detect mateicules\\r1\\yolov5\\models\\common.py:892: FutureWarning: `torch.cuda.amp.autocast(args...)` is deprecated. Please use `torch.amp.autocast('cuda', args...)` instead.\n",
      "  with amp.autocast(autocast):\n",
      "c:\\Users\\mirvi\\Desktop\\mii\\UAB\\4.1\\PSIV2\\detect mateicules\\r1\\yolov5\\models\\common.py:892: FutureWarning: `torch.cuda.amp.autocast(args...)` is deprecated. Please use `torch.amp.autocast('cuda', args...)` instead.\n",
      "  with amp.autocast(autocast):\n",
      "c:\\Users\\mirvi\\Desktop\\mii\\UAB\\4.1\\PSIV2\\detect mateicules\\r1\\yolov5\\models\\common.py:892: FutureWarning: `torch.cuda.amp.autocast(args...)` is deprecated. Please use `torch.amp.autocast('cuda', args...)` instead.\n",
      "  with amp.autocast(autocast):\n",
      "c:\\Users\\mirvi\\Desktop\\mii\\UAB\\4.1\\PSIV2\\detect mateicules\\r1\\yolov5\\models\\common.py:892: FutureWarning: `torch.cuda.amp.autocast(args...)` is deprecated. Please use `torch.amp.autocast('cuda', args...)` instead.\n",
      "  with amp.autocast(autocast):\n",
      "c:\\Users\\mirvi\\Desktop\\mii\\UAB\\4.1\\PSIV2\\detect mateicules\\r1\\yolov5\\models\\common.py:892: FutureWarning: `torch.cuda.amp.autocast(args...)` is deprecated. Please use `torch.amp.autocast('cuda', args...)` instead.\n",
      "  with amp.autocast(autocast):\n",
      "c:\\Users\\mirvi\\Desktop\\mii\\UAB\\4.1\\PSIV2\\detect mateicules\\r1\\yolov5\\models\\common.py:892: FutureWarning: `torch.cuda.amp.autocast(args...)` is deprecated. Please use `torch.amp.autocast('cuda', args...)` instead.\n",
      "  with amp.autocast(autocast):\n",
      "c:\\Users\\mirvi\\Desktop\\mii\\UAB\\4.1\\PSIV2\\detect mateicules\\r1\\yolov5\\models\\common.py:892: FutureWarning: `torch.cuda.amp.autocast(args...)` is deprecated. Please use `torch.amp.autocast('cuda', args...)` instead.\n",
      "  with amp.autocast(autocast):\n",
      "c:\\Users\\mirvi\\Desktop\\mii\\UAB\\4.1\\PSIV2\\detect mateicules\\r1\\yolov5\\models\\common.py:892: FutureWarning: `torch.cuda.amp.autocast(args...)` is deprecated. Please use `torch.amp.autocast('cuda', args...)` instead.\n",
      "  with amp.autocast(autocast):\n",
      "c:\\Users\\mirvi\\Desktop\\mii\\UAB\\4.1\\PSIV2\\detect mateicules\\r1\\yolov5\\models\\common.py:892: FutureWarning: `torch.cuda.amp.autocast(args...)` is deprecated. Please use `torch.amp.autocast('cuda', args...)` instead.\n",
      "  with amp.autocast(autocast):\n",
      "c:\\Users\\mirvi\\Desktop\\mii\\UAB\\4.1\\PSIV2\\detect mateicules\\r1\\yolov5\\models\\common.py:892: FutureWarning: `torch.cuda.amp.autocast(args...)` is deprecated. Please use `torch.amp.autocast('cuda', args...)` instead.\n",
      "  with amp.autocast(autocast):\n",
      "c:\\Users\\mirvi\\Desktop\\mii\\UAB\\4.1\\PSIV2\\detect mateicules\\r1\\yolov5\\models\\common.py:892: FutureWarning: `torch.cuda.amp.autocast(args...)` is deprecated. Please use `torch.amp.autocast('cuda', args...)` instead.\n",
      "  with amp.autocast(autocast):\n",
      "c:\\Users\\mirvi\\Desktop\\mii\\UAB\\4.1\\PSIV2\\detect mateicules\\r1\\yolov5\\models\\common.py:892: FutureWarning: `torch.cuda.amp.autocast(args...)` is deprecated. Please use `torch.amp.autocast('cuda', args...)` instead.\n",
      "  with amp.autocast(autocast):\n",
      "c:\\Users\\mirvi\\Desktop\\mii\\UAB\\4.1\\PSIV2\\detect mateicules\\r1\\yolov5\\models\\common.py:892: FutureWarning: `torch.cuda.amp.autocast(args...)` is deprecated. Please use `torch.amp.autocast('cuda', args...)` instead.\n",
      "  with amp.autocast(autocast):\n",
      "c:\\Users\\mirvi\\Desktop\\mii\\UAB\\4.1\\PSIV2\\detect mateicules\\r1\\yolov5\\models\\common.py:892: FutureWarning: `torch.cuda.amp.autocast(args...)` is deprecated. Please use `torch.amp.autocast('cuda', args...)` instead.\n",
      "  with amp.autocast(autocast):\n",
      "c:\\Users\\mirvi\\Desktop\\mii\\UAB\\4.1\\PSIV2\\detect mateicules\\r1\\yolov5\\models\\common.py:892: FutureWarning: `torch.cuda.amp.autocast(args...)` is deprecated. Please use `torch.amp.autocast('cuda', args...)` instead.\n",
      "  with amp.autocast(autocast):\n",
      "c:\\Users\\mirvi\\Desktop\\mii\\UAB\\4.1\\PSIV2\\detect mateicules\\r1\\yolov5\\models\\common.py:892: FutureWarning: `torch.cuda.amp.autocast(args...)` is deprecated. Please use `torch.amp.autocast('cuda', args...)` instead.\n",
      "  with amp.autocast(autocast):\n",
      "c:\\Users\\mirvi\\Desktop\\mii\\UAB\\4.1\\PSIV2\\detect mateicules\\r1\\yolov5\\models\\common.py:892: FutureWarning: `torch.cuda.amp.autocast(args...)` is deprecated. Please use `torch.amp.autocast('cuda', args...)` instead.\n",
      "  with amp.autocast(autocast):\n",
      "c:\\Users\\mirvi\\Desktop\\mii\\UAB\\4.1\\PSIV2\\detect mateicules\\r1\\yolov5\\models\\common.py:892: FutureWarning: `torch.cuda.amp.autocast(args...)` is deprecated. Please use `torch.amp.autocast('cuda', args...)` instead.\n",
      "  with amp.autocast(autocast):\n",
      "c:\\Users\\mirvi\\Desktop\\mii\\UAB\\4.1\\PSIV2\\detect mateicules\\r1\\yolov5\\models\\common.py:892: FutureWarning: `torch.cuda.amp.autocast(args...)` is deprecated. Please use `torch.amp.autocast('cuda', args...)` instead.\n",
      "  with amp.autocast(autocast):\n",
      "c:\\Users\\mirvi\\Desktop\\mii\\UAB\\4.1\\PSIV2\\detect mateicules\\r1\\yolov5\\models\\common.py:892: FutureWarning: `torch.cuda.amp.autocast(args...)` is deprecated. Please use `torch.amp.autocast('cuda', args...)` instead.\n",
      "  with amp.autocast(autocast):\n",
      "c:\\Users\\mirvi\\Desktop\\mii\\UAB\\4.1\\PSIV2\\detect mateicules\\r1\\yolov5\\models\\common.py:892: FutureWarning: `torch.cuda.amp.autocast(args...)` is deprecated. Please use `torch.amp.autocast('cuda', args...)` instead.\n",
      "  with amp.autocast(autocast):\n",
      "c:\\Users\\mirvi\\Desktop\\mii\\UAB\\4.1\\PSIV2\\detect mateicules\\r1\\yolov5\\models\\common.py:892: FutureWarning: `torch.cuda.amp.autocast(args...)` is deprecated. Please use `torch.amp.autocast('cuda', args...)` instead.\n",
      "  with amp.autocast(autocast):\n",
      "c:\\Users\\mirvi\\Desktop\\mii\\UAB\\4.1\\PSIV2\\detect mateicules\\r1\\yolov5\\models\\common.py:892: FutureWarning: `torch.cuda.amp.autocast(args...)` is deprecated. Please use `torch.amp.autocast('cuda', args...)` instead.\n",
      "  with amp.autocast(autocast):\n",
      "c:\\Users\\mirvi\\Desktop\\mii\\UAB\\4.1\\PSIV2\\detect mateicules\\r1\\yolov5\\models\\common.py:892: FutureWarning: `torch.cuda.amp.autocast(args...)` is deprecated. Please use `torch.amp.autocast('cuda', args...)` instead.\n",
      "  with amp.autocast(autocast):\n",
      "c:\\Users\\mirvi\\Desktop\\mii\\UAB\\4.1\\PSIV2\\detect mateicules\\r1\\yolov5\\models\\common.py:892: FutureWarning: `torch.cuda.amp.autocast(args...)` is deprecated. Please use `torch.amp.autocast('cuda', args...)` instead.\n",
      "  with amp.autocast(autocast):\n",
      "c:\\Users\\mirvi\\Desktop\\mii\\UAB\\4.1\\PSIV2\\detect mateicules\\r1\\yolov5\\models\\common.py:892: FutureWarning: `torch.cuda.amp.autocast(args...)` is deprecated. Please use `torch.amp.autocast('cuda', args...)` instead.\n",
      "  with amp.autocast(autocast):\n",
      "c:\\Users\\mirvi\\Desktop\\mii\\UAB\\4.1\\PSIV2\\detect mateicules\\r1\\yolov5\\models\\common.py:892: FutureWarning: `torch.cuda.amp.autocast(args...)` is deprecated. Please use `torch.amp.autocast('cuda', args...)` instead.\n",
      "  with amp.autocast(autocast):\n",
      "c:\\Users\\mirvi\\Desktop\\mii\\UAB\\4.1\\PSIV2\\detect mateicules\\r1\\yolov5\\models\\common.py:892: FutureWarning: `torch.cuda.amp.autocast(args...)` is deprecated. Please use `torch.amp.autocast('cuda', args...)` instead.\n",
      "  with amp.autocast(autocast):\n",
      "c:\\Users\\mirvi\\Desktop\\mii\\UAB\\4.1\\PSIV2\\detect mateicules\\r1\\yolov5\\models\\common.py:892: FutureWarning: `torch.cuda.amp.autocast(args...)` is deprecated. Please use `torch.amp.autocast('cuda', args...)` instead.\n",
      "  with amp.autocast(autocast):\n",
      "c:\\Users\\mirvi\\Desktop\\mii\\UAB\\4.1\\PSIV2\\detect mateicules\\r1\\yolov5\\models\\common.py:892: FutureWarning: `torch.cuda.amp.autocast(args...)` is deprecated. Please use `torch.amp.autocast('cuda', args...)` instead.\n",
      "  with amp.autocast(autocast):\n",
      "c:\\Users\\mirvi\\Desktop\\mii\\UAB\\4.1\\PSIV2\\detect mateicules\\r1\\yolov5\\models\\common.py:892: FutureWarning: `torch.cuda.amp.autocast(args...)` is deprecated. Please use `torch.amp.autocast('cuda', args...)` instead.\n",
      "  with amp.autocast(autocast):\n",
      "c:\\Users\\mirvi\\Desktop\\mii\\UAB\\4.1\\PSIV2\\detect mateicules\\r1\\yolov5\\models\\common.py:892: FutureWarning: `torch.cuda.amp.autocast(args...)` is deprecated. Please use `torch.amp.autocast('cuda', args...)` instead.\n",
      "  with amp.autocast(autocast):\n",
      "c:\\Users\\mirvi\\Desktop\\mii\\UAB\\4.1\\PSIV2\\detect mateicules\\r1\\yolov5\\models\\common.py:892: FutureWarning: `torch.cuda.amp.autocast(args...)` is deprecated. Please use `torch.amp.autocast('cuda', args...)` instead.\n",
      "  with amp.autocast(autocast):\n",
      "c:\\Users\\mirvi\\Desktop\\mii\\UAB\\4.1\\PSIV2\\detect mateicules\\r1\\yolov5\\models\\common.py:892: FutureWarning: `torch.cuda.amp.autocast(args...)` is deprecated. Please use `torch.amp.autocast('cuda', args...)` instead.\n",
      "  with amp.autocast(autocast):\n",
      "c:\\Users\\mirvi\\Desktop\\mii\\UAB\\4.1\\PSIV2\\detect mateicules\\r1\\yolov5\\models\\common.py:892: FutureWarning: `torch.cuda.amp.autocast(args...)` is deprecated. Please use `torch.amp.autocast('cuda', args...)` instead.\n",
      "  with amp.autocast(autocast):\n",
      "c:\\Users\\mirvi\\Desktop\\mii\\UAB\\4.1\\PSIV2\\detect mateicules\\r1\\yolov5\\models\\common.py:892: FutureWarning: `torch.cuda.amp.autocast(args...)` is deprecated. Please use `torch.amp.autocast('cuda', args...)` instead.\n",
      "  with amp.autocast(autocast):\n",
      "c:\\Users\\mirvi\\Desktop\\mii\\UAB\\4.1\\PSIV2\\detect mateicules\\r1\\yolov5\\models\\common.py:892: FutureWarning: `torch.cuda.amp.autocast(args...)` is deprecated. Please use `torch.amp.autocast('cuda', args...)` instead.\n",
      "  with amp.autocast(autocast):\n",
      "c:\\Users\\mirvi\\Desktop\\mii\\UAB\\4.1\\PSIV2\\detect mateicules\\r1\\yolov5\\models\\common.py:892: FutureWarning: `torch.cuda.amp.autocast(args...)` is deprecated. Please use `torch.amp.autocast('cuda', args...)` instead.\n",
      "  with amp.autocast(autocast):\n"
     ]
    },
    {
     "name": "stdout",
     "output_type": "stream",
     "text": [
      "Total: 86\n",
      "Correct: 1\n",
      "Incorrect: 85\n"
     ]
    },
    {
     "name": "stderr",
     "output_type": "stream",
     "text": [
      "c:\\Users\\mirvi\\Desktop\\mii\\UAB\\4.1\\PSIV2\\detect mateicules\\r1\\yolov5\\models\\common.py:892: FutureWarning: `torch.cuda.amp.autocast(args...)` is deprecated. Please use `torch.amp.autocast('cuda', args...)` instead.\n",
      "  with amp.autocast(autocast):\n"
     ]
    }
   ],
   "source": [
    "total = 0\n",
    "correct = []\n",
    "incorrect = []\n",
    "mat_preds = []\n",
    "# Iterar sobre contenido de final_df_path_img\n",
    "for row,img in enumerate(os.listdir(final_df_path_img)):\n",
    "    total += 1\n",
    "    # 1. get img path\n",
    "    image_path = os.path.join(final_df_path_img, img)\n",
    "\n",
    "    # 2. detect matricula\n",
    "    num_preds, alfa_preds = detect_matricula(image_path, model_yolo, model_alfa, model_num)\n",
    "    num_preds = [str(n) for n in num_preds]\n",
    "    matricula = num_preds + alfa_preds\n",
    "    matricula = ''.join(matricula)\n",
    "    mat_preds.append(matricula)\n",
    "\n",
    "    if matricula == final_df.loc[row][0]:\n",
    "        correct.append(image_path)\n",
    "    \n",
    "    else:\n",
    "        incorrect.append(image_path)\n",
    "\n",
    "print(f\"Total: {total}\")\n",
    "print(f\"Correct: {len(correct)}\")\n",
    "print(f\"Incorrect: {len(incorrect)}\")\n"
   ]
  },
  {
   "cell_type": "code",
   "execution_count": 4,
   "metadata": {},
   "outputs": [
    {
     "name": "stdout",
     "output_type": "stream",
     "text": [
      "Real: 5796DKP - Predicted: 5796DKP\n",
      "Real: 1556GMZ - Predicted: 1098Z\n",
      "Real: 0182GLK - Predicted: 2344KJP\n",
      "Real: 3044JMB - Predicted: 0907JRF\n",
      "Real: 5789JHB - Predicted: 6554BNX\n",
      "Real: 6929LKK - Predicted: 6401JBX\n",
      "Real: 3660CRT - Predicted: 8727JTC\n",
      "Real: 6000GVT - Predicted: 5275HGY\n",
      "Real: 3587DCX - Predicted: 4674FHC\n",
      "Real: 1498JBZ - Predicted: 3975KWL\n",
      "Real: 2344KJP - Predicted: 9281JHB\n",
      "Real: 0907JRF - Predicted: 1556GMZ\n",
      "Real: 6554BNX - Predicted: 1996GZS\n",
      "Real: 6401JBX - Predicted: 9980CB\n",
      "Real: 8727JTC - Predicted: 1927HDH\n",
      "Real: 5275HGY - Predicted: 3362LKY\n",
      "Real: 4674FHC - Predicted: 8697MKJ\n",
      "Real: 3975KWL - Predicted: \n",
      "Real: 9281JHB - Predicted: 7882\n",
      "Real: 1996GZS - Predicted: 6957BYV\n",
      "Real: 9980GCB - Predicted: 6735LHT\n",
      "Real: 1927HDH - Predicted: 5658HK\n",
      "Real: 3362LKY - Predicted: 0182GLK\n",
      "Real: 8697MKJ - Predicted: 3983GVK\n",
      "Real: 1717HNM - Predicted: 4328RD\n",
      "Real: 1867KXJ - Predicted: 008\n",
      "Real: 6957BYV - Predicted: 8944LTC\n",
      "Real: 6735LHT - Predicted: 0051LSY\n",
      "Real: 5658HPK - Predicted: 0073ZBB\n",
      "Real: 3983GVK - Predicted: 5879FYF\n",
      "Real: 4324KRD - Predicted: 6988W\n",
      "Real: 0123GCW - Predicted: 4884\n",
      "Real: 8944LTC - Predicted: 6\n",
      "Real: 0051LSY - Predicted: 3044JMB\n",
      "Real: GC7323BN - Predicted: \n",
      "Real: 5879FYR - Predicted: 4100CTZ\n",
      "Real: 1969KKW - Predicted: 2\n",
      "Real: 8884KNL - Predicted: 6674KBX\n",
      "Real: 1336FLG - Predicted: \n",
      "Real: GC8704AV - Predicted: \n",
      "Real: 4100CTZ - Predicted: \n",
      "Real: M9106PZ - Predicted: 6556DMJ\n",
      "Real: 6674KBX - Predicted: 3760CGF\n",
      "Real: 0635LYZ - Predicted: \n",
      "Real: 0239GLK - Predicted: 5789JHB\n",
      "Real: GC4999CJ - Predicted: \n",
      "Real: 6556DMJ - Predicted: 5868\n",
      "Real: 3760CGF - Predicted: 5879FYR\n",
      "Real: 3760CGF - Predicted: 252\n",
      "Real: 9673LHL - Predicted: 4841LFS\n",
      "Real: 5879FYR - Predicted: 7805B\n",
      "Real: 5879FYR - Predicted: 11\n",
      "Real: 2522LNH - Predicted: 8168GJG\n",
      "Real: 4841LFS - Predicted: 8712HJG\n",
      "Real: 5239LSB - Predicted: 01\n",
      "Real: 6298KSN - Predicted: 6929LK\n",
      "Real: 8168GJG - Predicted: 5628J\n",
      "Real: 8712HJG - Predicted: 3796DPX\n",
      "Real: 8903KPT - Predicted: 4020YP\n",
      "Real: 6556DMJ - Predicted: \n",
      "Real: 3796DPX - Predicted: 84\n",
      "Real: 4702CYP - Predicted: \n",
      "Real: 4702CYP - Predicted: \n",
      "Real: 8884KNL - Predicted: 7473KHP\n",
      "Real: 8884KNL - Predicted: \n",
      "Real: 8884KHF - Predicted: 181\n",
      "Real: 7473KHP - Predicted: 6600RT\n",
      "Real: 8878LWB - Predicted: \n",
      "Real: GR5101AT - Predicted: \n",
      "Real: 4597HXL - Predicted: \n",
      "Real: 8433LTC - Predicted: \n",
      "Real: 0063HSJ - Predicted: \n",
      "Real: 3343DYL - Predicted: \n",
      "Real: 9556KTR - Predicted: 1690LFL\n",
      "Real: 6656JPW - Predicted: 4270KVH\n",
      "Real: 1690LFL - Predicted: \n",
      "Real: 4210KVH - Predicted: \n",
      "Real: 3587KSG - Predicted: 6000GVT\n",
      "Real: 1805GTP - Predicted: \n",
      "Real: 7430HNM - Predicted: \n",
      "Real: 7927JHX - Predicted: \n",
      "Real: 2465DYD - Predicted: \n",
      "Real: 9071FYM - Predicted: \n",
      "Real: 4452HGY - Predicted: 1281\n",
      "Real: 0612GKT - Predicted: \n",
      "Real: 4810FYN - Predicted: 3587DCX\n"
     ]
    }
   ],
   "source": [
    "for i in range(total):\n",
    "    print(f\"Real: {final_df.loc[i][0]} - Predicted: {mat_preds[i]}\")\n"
   ]
  },
  {
   "cell_type": "code",
   "execution_count": 22,
   "metadata": {},
   "outputs": [
    {
     "name": "stderr",
     "output_type": "stream",
     "text": [
      "YOLOv5  2024-10-5 Python-3.9.7 torch-2.4.1+cpu CPU\n",
      "\n",
      "Fusing layers... \n",
      "Model summary: 157 layers, 7012822 parameters, 0 gradients, 15.8 GFLOPs\n",
      "Adding AutoShape... \n",
      "c:\\Users\\mirvi\\Desktop\\mii\\UAB\\4.1\\PSIV2\\detect mateicules\\r1\\yolov5\\models\\common.py:892: FutureWarning: `torch.cuda.amp.autocast(args...)` is deprecated. Please use `torch.amp.autocast('cuda', args...)` instead.\n",
      "  with amp.autocast(autocast):\n"
     ]
    },
    {
     "name": "stdout",
     "output_type": "stream",
     "text": [
      "[5, 5, 6, 0] ['M', 'Z']\n"
     ]
    }
   ],
   "source": [
    "image_path = 'dataset_final/Dataset-Final/2.jpg'\n",
    "\n",
    "img_cropped = crop_matricula(image_path)\n",
    "\n",
    "\n",
    "model_yolo, model_alfa, model_num = init_models()\n",
    "num_preds, alfa_preds = detect_matricula(image_path, model_yolo, model_alfa, model_num)\n",
    "\n",
    "image = cv2.imread(image_path)\n",
    "plt.figure()\n",
    "plt.imshow(cv2.cvtColor(image, cv2.COLOR_BGR2RGB))\n",
    "\n",
    "print(num_preds, alfa_preds)"
   ]
  },
  {
   "cell_type": "code",
   "execution_count": 11,
   "metadata": {},
   "outputs": [
    {
     "name": "stderr",
     "output_type": "stream",
     "text": [
      "c:\\Users\\mirvi\\Desktop\\mii\\UAB\\4.1\\PSIV2\\detect mateicules\\r1\\yolov5\\models\\common.py:892: FutureWarning: `torch.cuda.amp.autocast(args...)` is deprecated. Please use `torch.amp.autocast('cuda', args...)` instead.\n",
      "  with amp.autocast(autocast):\n"
     ]
    }
   ],
   "source": [
    "image_path = 'dataset_final/Dataset-Final/2.jpg'\n",
    "\n",
    "img_cropped = crop_matricula(image_path, model_yolo)\n",
    "\n",
    "# save in tmp\n",
    "cv2.imwrite('tmp/tmp.jpg', img_cropped)\n",
    "\n",
    "# crop to digits\n",
    "digits = matricula_to_digits(img_cropped)\n",
    "\n",
    "# save in tmp\n",
    "for i,digit in enumerate(digits):\n",
    "    cv2.imwrite(f'tmp/tmp_{i}.jpg', digit)"
   ]
  }
 ],
 "metadata": {
  "kernelspec": {
   "display_name": "Python 3",
   "language": "python",
   "name": "python3"
  },
  "language_info": {
   "codemirror_mode": {
    "name": "ipython",
    "version": 3
   },
   "file_extension": ".py",
   "mimetype": "text/x-python",
   "name": "python",
   "nbconvert_exporter": "python",
   "pygments_lexer": "ipython3",
   "version": "3.9.7"
  }
 },
 "nbformat": 4,
 "nbformat_minor": 2
}
