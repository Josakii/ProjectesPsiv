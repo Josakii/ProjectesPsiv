{
 "cells": [
  {
   "cell_type": "code",
   "execution_count": 1,
   "metadata": {},
   "outputs": [],
   "source": [
    "from ultralytics import YOLO\n",
    "import cv2\n",
    "from matplotlib import pyplot as plt\n",
    "import torch"
   ]
  },
  {
   "cell_type": "code",
   "execution_count": 7,
   "metadata": {},
   "outputs": [
    {
     "name": "stdout",
     "output_type": "stream",
     "text": [
      "Requirement already satisfied: gitpython>=3.1.30 in c:\\users\\mirvi\\appdata\\local\\programs\\python\\python39\\lib\\site-packages (from -r yolov5/requirements.txt (line 5)) (3.1.43)\n",
      "Requirement already satisfied: matplotlib>=3.3 in c:\\users\\mirvi\\appdata\\roaming\\python\\python39\\site-packages (from -r yolov5/requirements.txt (line 6)) (3.5.1)\n",
      "Requirement already satisfied: numpy>=1.23.5 in c:\\users\\mirvi\\appdata\\roaming\\python\\python39\\site-packages (from -r yolov5/requirements.txt (line 7)) (1.24.3)\n",
      "Requirement already satisfied: opencv-python>=4.1.1 in c:\\users\\mirvi\\appdata\\roaming\\python\\python39\\site-packages (from -r yolov5/requirements.txt (line 8)) (4.7.0.72)\n",
      "Requirement already satisfied: pillow>=10.3.0 in c:\\users\\mirvi\\appdata\\local\\programs\\python\\python39\\lib\\site-packages (from -r yolov5/requirements.txt (line 9)) (10.4.0)\n",
      "Requirement already satisfied: psutil in c:\\users\\mirvi\\appdata\\roaming\\python\\python39\\site-packages (from -r yolov5/requirements.txt (line 10)) (5.9.4)\n",
      "Requirement already satisfied: PyYAML>=5.3.1 in c:\\users\\mirvi\\appdata\\local\\programs\\python\\python39\\lib\\site-packages (from -r yolov5/requirements.txt (line 11)) (6.0.1)\n",
      "Requirement already satisfied: requests>=2.32.2 in c:\\users\\mirvi\\appdata\\local\\programs\\python\\python39\\lib\\site-packages (from -r yolov5/requirements.txt (line 12)) (2.32.3)\n",
      "Requirement already satisfied: scipy>=1.4.1 in c:\\users\\mirvi\\appdata\\roaming\\python\\python39\\site-packages (from -r yolov5/requirements.txt (line 13)) (1.10.1)\n",
      "Requirement already satisfied: thop>=0.1.1 in c:\\users\\mirvi\\appdata\\local\\programs\\python\\python39\\lib\\site-packages (from -r yolov5/requirements.txt (line 14)) (0.1.1.post2209072238)\n",
      "Requirement already satisfied: torch>=1.8.0 in c:\\users\\mirvi\\appdata\\local\\programs\\python\\python39\\lib\\site-packages (from -r yolov5/requirements.txt (line 15)) (2.4.1)\n",
      "Requirement already satisfied: torchvision>=0.9.0 in c:\\users\\mirvi\\appdata\\local\\programs\\python\\python39\\lib\\site-packages (from -r yolov5/requirements.txt (line 16)) (0.19.1)\n",
      "Requirement already satisfied: tqdm>=4.66.3 in c:\\users\\mirvi\\appdata\\local\\programs\\python\\python39\\lib\\site-packages (from -r yolov5/requirements.txt (line 17)) (4.66.5)\n",
      "Requirement already satisfied: ultralytics>=8.2.34 in c:\\users\\mirvi\\appdata\\local\\programs\\python\\python39\\lib\\site-packages (from -r yolov5/requirements.txt (line 18)) (8.3.5)\n",
      "Requirement already satisfied: pandas>=1.1.4 in c:\\users\\mirvi\\appdata\\roaming\\python\\python39\\site-packages (from -r yolov5/requirements.txt (line 27)) (2.0.2)\n",
      "Requirement already satisfied: seaborn>=0.11.0 in c:\\users\\mirvi\\appdata\\local\\programs\\python\\python39\\lib\\site-packages (from -r yolov5/requirements.txt (line 28)) (0.12.2)\n",
      "Requirement already satisfied: setuptools>=70.0.0 in c:\\users\\mirvi\\appdata\\local\\programs\\python\\python39\\lib\\site-packages (from -r yolov5/requirements.txt (line 42)) (75.1.0)\n",
      "Requirement already satisfied: gitdb<5,>=4.0.1 in c:\\users\\mirvi\\appdata\\local\\programs\\python\\python39\\lib\\site-packages (from gitpython>=3.1.30->-r yolov5/requirements.txt (line 5)) (4.0.11)\n",
      "Requirement already satisfied: packaging>=20.0 in c:\\users\\mirvi\\appdata\\roaming\\python\\python39\\site-packages (from matplotlib>=3.3->-r yolov5/requirements.txt (line 6)) (21.3)\n",
      "Requirement already satisfied: kiwisolver>=1.0.1 in c:\\users\\mirvi\\appdata\\roaming\\python\\python39\\site-packages (from matplotlib>=3.3->-r yolov5/requirements.txt (line 6)) (1.3.2)\n",
      "Requirement already satisfied: fonttools>=4.22.0 in c:\\users\\mirvi\\appdata\\roaming\\python\\python39\\site-packages (from matplotlib>=3.3->-r yolov5/requirements.txt (line 6)) (4.29.1)\n",
      "Requirement already satisfied: pyparsing>=2.2.1 in c:\\users\\mirvi\\appdata\\roaming\\python\\python39\\site-packages (from matplotlib>=3.3->-r yolov5/requirements.txt (line 6)) (3.0.7)\n",
      "Requirement already satisfied: python-dateutil>=2.7 in c:\\users\\mirvi\\appdata\\roaming\\python\\python39\\site-packages (from matplotlib>=3.3->-r yolov5/requirements.txt (line 6)) (2.8.2)\n",
      "Requirement already satisfied: cycler>=0.10 in c:\\users\\mirvi\\appdata\\roaming\\python\\python39\\site-packages (from matplotlib>=3.3->-r yolov5/requirements.txt (line 6)) (0.11.0)\n",
      "Requirement already satisfied: idna<4,>=2.5 in c:\\users\\mirvi\\appdata\\local\\programs\\python\\python39\\lib\\site-packages (from requests>=2.32.2->-r yolov5/requirements.txt (line 12)) (3.4)\n",
      "Requirement already satisfied: certifi>=2017.4.17 in c:\\users\\mirvi\\appdata\\local\\programs\\python\\python39\\lib\\site-packages (from requests>=2.32.2->-r yolov5/requirements.txt (line 12)) (2022.9.24)\n",
      "Requirement already satisfied: urllib3<3,>=1.21.1 in c:\\users\\mirvi\\appdata\\local\\programs\\python\\python39\\lib\\site-packages (from requests>=2.32.2->-r yolov5/requirements.txt (line 12)) (1.26.13)\n",
      "Requirement already satisfied: charset-normalizer<4,>=2 in c:\\users\\mirvi\\appdata\\local\\programs\\python\\python39\\lib\\site-packages (from requests>=2.32.2->-r yolov5/requirements.txt (line 12)) (2.1.1)\n",
      "Requirement already satisfied: jinja2 in c:\\users\\mirvi\\appdata\\local\\programs\\python\\python39\\lib\\site-packages (from torch>=1.8.0->-r yolov5/requirements.txt (line 15)) (3.1.2)\n",
      "Requirement already satisfied: sympy in c:\\users\\mirvi\\appdata\\local\\programs\\python\\python39\\lib\\site-packages (from torch>=1.8.0->-r yolov5/requirements.txt (line 15)) (1.12)\n",
      "Requirement already satisfied: fsspec in c:\\users\\mirvi\\appdata\\local\\programs\\python\\python39\\lib\\site-packages (from torch>=1.8.0->-r yolov5/requirements.txt (line 15)) (2024.2.0)\n",
      "Requirement already satisfied: filelock in c:\\users\\mirvi\\appdata\\local\\programs\\python\\python39\\lib\\site-packages (from torch>=1.8.0->-r yolov5/requirements.txt (line 15)) (3.13.1)\n",
      "Requirement already satisfied: typing-extensions>=4.8.0 in c:\\users\\mirvi\\appdata\\local\\programs\\python\\python39\\lib\\site-packages (from torch>=1.8.0->-r yolov5/requirements.txt (line 15)) (4.9.0)\n",
      "Requirement already satisfied: networkx in c:\\users\\mirvi\\appdata\\local\\programs\\python\\python39\\lib\\site-packages (from torch>=1.8.0->-r yolov5/requirements.txt (line 15)) (3.0)\n",
      "Requirement already satisfied: colorama in c:\\users\\mirvi\\appdata\\roaming\\python\\python39\\site-packages (from tqdm>=4.66.3->-r yolov5/requirements.txt (line 17)) (0.4.6)\n",
      "Requirement already satisfied: py-cpuinfo in c:\\users\\mirvi\\appdata\\local\\programs\\python\\python39\\lib\\site-packages (from ultralytics>=8.2.34->-r yolov5/requirements.txt (line 18)) (9.0.0)\n",
      "Requirement already satisfied: ultralytics-thop>=2.0.0 in c:\\users\\mirvi\\appdata\\local\\programs\\python\\python39\\lib\\site-packages (from ultralytics>=8.2.34->-r yolov5/requirements.txt (line 18)) (2.0.6)\n",
      "Requirement already satisfied: tzdata>=2022.1 in c:\\users\\mirvi\\appdata\\local\\programs\\python\\python39\\lib\\site-packages (from pandas>=1.1.4->-r yolov5/requirements.txt (line 27)) (2024.1)\n",
      "Requirement already satisfied: pytz>=2020.1 in c:\\users\\mirvi\\appdata\\roaming\\python\\python39\\site-packages (from pandas>=1.1.4->-r yolov5/requirements.txt (line 27)) (2021.3)\n",
      "Requirement already satisfied: smmap<6,>=3.0.1 in c:\\users\\mirvi\\appdata\\local\\programs\\python\\python39\\lib\\site-packages (from gitdb<5,>=4.0.1->gitpython>=3.1.30->-r yolov5/requirements.txt (line 5)) (5.0.1)\n",
      "Requirement already satisfied: six>=1.5 in c:\\users\\mirvi\\appdata\\roaming\\python\\python39\\site-packages (from python-dateutil>=2.7->matplotlib>=3.3->-r yolov5/requirements.txt (line 6)) (1.16.0)\n",
      "Requirement already satisfied: MarkupSafe>=2.0 in c:\\users\\mirvi\\appdata\\local\\programs\\python\\python39\\lib\\site-packages (from jinja2->torch>=1.8.0->-r yolov5/requirements.txt (line 15)) (2.1.3)\n",
      "Requirement already satisfied: mpmath>=0.19 in c:\\users\\mirvi\\appdata\\local\\programs\\python\\python39\\lib\\site-packages (from sympy->torch>=1.8.0->-r yolov5/requirements.txt (line 15)) (1.3.0)\n"
     ]
    },
    {
     "name": "stderr",
     "output_type": "stream",
     "text": [
      "WARNING: Ignoring invalid distribution -illow (c:\\users\\mirvi\\appdata\\roaming\\python\\python39\\site-packages)\n",
      "WARNING: Ignoring invalid distribution -illow (c:\\users\\mirvi\\appdata\\roaming\\python\\python39\\site-packages)\n",
      "WARNING: Ignoring invalid distribution -illow (c:\\users\\mirvi\\appdata\\roaming\\python\\python39\\site-packages)\n",
      "WARNING: Ignoring invalid distribution -illow (c:\\users\\mirvi\\appdata\\roaming\\python\\python39\\site-packages)\n",
      "WARNING: Ignoring invalid distribution -illow (c:\\users\\mirvi\\appdata\\roaming\\python\\python39\\site-packages)\n",
      "WARNING: Ignoring invalid distribution -illow (c:\\users\\mirvi\\appdata\\roaming\\python\\python39\\site-packages)\n",
      "\n",
      "[notice] A new release of pip available: 22.3.1 -> 24.2\n",
      "[notice] To update, run: python.exe -m pip install --upgrade pip\n"
     ]
    }
   ],
   "source": [
    "# install requirements.txt\n",
    "\n",
    "!pip install -r yolov5/requirements.txt"
   ]
  },
  {
   "cell_type": "code",
   "execution_count": 6,
   "metadata": {},
   "outputs": [
    {
     "name": "stderr",
     "output_type": "stream",
     "text": [
      "YOLOv5  2024-10-5 Python-3.9.7 torch-2.4.1+cpu CPU\n",
      "\n",
      "Fusing layers... \n",
      "Model summary: 157 layers, 7012822 parameters, 0 gradients, 15.8 GFLOPs\n",
      "Adding AutoShape... \n"
     ]
    }
   ],
   "source": [
    "import torch\n",
    "\n",
    "# Cargar el modelo YOLOv5 desde el archivo best.pt\n",
    "model = torch.hub.load('yolov5', 'custom', path='yolov5/runs/train/exp/weights/best.pt', source='local',force_reload=True)"
   ]
  },
  {
   "cell_type": "code",
   "execution_count": 10,
   "metadata": {},
   "outputs": [],
   "source": [
    "\n",
    "image_path = 'img_exemple\\matricula_exemple.jpg'\n",
    "\n",
    "img = cv2.imread(image_path)"
   ]
  },
  {
   "cell_type": "code",
   "execution_count": 12,
   "metadata": {},
   "outputs": [
    {
     "name": "stderr",
     "output_type": "stream",
     "text": [
      "c:\\Users\\mirvi\\Desktop\\mii\\UAB\\4.1\\PSIV2\\detect mateicules\\r1\\yolov5\\models\\common.py:892: FutureWarning: `torch.cuda.amp.autocast(args...)` is deprecated. Please use `torch.amp.autocast('cuda', args...)` instead.\n",
      "  with amp.autocast(autocast):\n"
     ]
    },
    {
     "data": {
      "text/plain": [
       "True"
      ]
     },
     "execution_count": 12,
     "metadata": {},
     "output_type": "execute_result"
    }
   ],
   "source": [
    "res = model(image_path)\n",
    "\n",
    "predictions = res.pandas().xyxy[0]  # df con columnas: xmin, ymin, xmax, ymax, confidence, class, name\n",
    "\n",
    "for index, row in predictions.iterrows():\n",
    "    xmin = int(row['xmin'])\n",
    "    ymin = int(row['ymin'])\n",
    "    xmax = int(row['xmax'])\n",
    "    ymax = int(row['ymax'])\n",
    "    confidence = row['confidence']\n",
    "    class_name = row['name']  # nombre de la clase detectada\n",
    "    \n",
    "    # Get the biggest rectangle\n",
    "    if index == 0:\n",
    "        biggest_rectangle = (xmin, ymin, xmax, ymax)\n",
    "    else:\n",
    "        if (xmax - xmin) * (ymax - ymin) > (biggest_rectangle[2] - biggest_rectangle[0]) * (biggest_rectangle[3] - biggest_rectangle[1]):\n",
    "            biggest_rectangle = (xmin, ymin, xmax, ymax)\n",
    "\n",
    "# Crop the biggest rectangle\n",
    "xmin, ymin, xmax, ymax = biggest_rectangle\n",
    "crp_img = img[ymin:ymax, xmin:xmax]\n",
    "\n",
    "# Save the cropped image\n",
    "cv2.imwrite('cropped_image1.jpg', crp_img)"
   ]
  },
  {
   "cell_type": "code",
   "execution_count": 4,
   "metadata": {},
   "outputs": [
    {
     "name": "stderr",
     "output_type": "stream",
     "text": [
      "YOLOv5  2024-10-5 Python-3.9.7 torch-2.4.1+cpu CPU\n",
      "\n",
      "Fusing layers... \n",
      "Model summary: 157 layers, 7012822 parameters, 0 gradients, 15.8 GFLOPs\n",
      "Adding AutoShape... \n",
      "c:\\Users\\mirvi\\Desktop\\mii\\UAB\\4.1\\PSIV2\\detect mateicules\\r1\\yolov5\\models\\common.py:892: FutureWarning: `torch.cuda.amp.autocast(args...)` is deprecated. Please use `torch.amp.autocast('cuda', args...)` instead.\n",
      "  with amp.autocast(autocast):\n"
     ]
    }
   ],
   "source": [
    "from funcions_finals.image_to_matricula_1 import crop_matricula\n",
    "\n",
    "crop_mat = crop_matricula(image_path)"
   ]
  },
  {
   "cell_type": "code",
   "execution_count": 5,
   "metadata": {},
   "outputs": [
    {
     "name": "stdout",
     "output_type": "stream",
     "text": [
      "<class 'numpy.ndarray'>\n"
     ]
    }
   ],
   "source": [
    "print(type(crop_mat))"
   ]
  }
 ],
 "metadata": {
  "kernelspec": {
   "display_name": "Python 3",
   "language": "python",
   "name": "python3"
  },
  "language_info": {
   "codemirror_mode": {
    "name": "ipython",
    "version": 3
   },
   "file_extension": ".py",
   "mimetype": "text/x-python",
   "name": "python",
   "nbconvert_exporter": "python",
   "pygments_lexer": "ipython3",
   "version": "3.9.7"
  }
 },
 "nbformat": 4,
 "nbformat_minor": 2
}
